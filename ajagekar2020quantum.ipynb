{
  "nbformat": 4,
  "nbformat_minor": 0,
  "metadata": {
    "colab": {
      "name": "ajagekar2020quantum.ipynb",
      "provenance": [],
      "collapsed_sections": [],
      "authorship_tag": "ABX9TyN89n5MqhF1/SJzPApDDOQD",
      "include_colab_link": true
    },
    "kernelspec": {
      "name": "python3",
      "display_name": "Python 3"
    }
  },
  "cells": [
    {
      "cell_type": "markdown",
      "metadata": {
        "id": "view-in-github",
        "colab_type": "text"
      },
      "source": [
        "<a href=\"https://colab.research.google.com/github/ogyogy/colaboratory/blob/main/ajagekar2020quantum.ipynb\" target=\"_parent\"><img src=\"https://colab.research.google.com/assets/colab-badge.svg\" alt=\"Open In Colab\"/></a>"
      ]
    },
    {
      "cell_type": "markdown",
      "metadata": {
        "id": "FOOdtROVv2G5"
      },
      "source": [
        "# ajagekar2020quantum\n",
        "[PDF](https://arxiv.org/ftp/arxiv/papers/1910/1910.13045.pdf)"
      ]
    },
    {
      "cell_type": "markdown",
      "metadata": {
        "id": "SFg9rGTwdpyb"
      },
      "source": [
        "## モジュールのインストール"
      ]
    },
    {
      "cell_type": "code",
      "metadata": {
        "id": "NPX82REwUXfx"
      },
      "source": [
        "pip install openjij pyqubo pulp"
      ],
      "execution_count": null,
      "outputs": []
    },
    {
      "cell_type": "markdown",
      "metadata": {
        "id": "9P82MFXUdsaD"
      },
      "source": [
        "## モジュールのインポート"
      ]
    },
    {
      "cell_type": "code",
      "metadata": {
        "id": "n8BioSJx8tLT"
      },
      "source": [
        "import openjij as oj\n",
        "import pandas as pd\n",
        "import pulp\n",
        "from pyqubo import Array\n",
        "import numpy as np"
      ],
      "execution_count": 2,
      "outputs": []
    },
    {
      "cell_type": "markdown",
      "metadata": {
        "id": "QnM1oJ7_d48K"
      },
      "source": [
        "## 例題"
      ]
    },
    {
      "cell_type": "markdown",
      "metadata": {
        "id": "X8HET6-ycQ_H"
      },
      "source": [
        "例題として、以下のパラメータを設定する。\n",
        "\n",
        "| | $i1$  | $i2$ | $i3$ | $i4$ | $i5$ |\n",
        "| :---: | :---: | :---: | :---: | :---: | :---: |\n",
        "| $m1$ | $P = 8, C = 1$  | $P = 5, C = 1$  | $P = 9, C = 2$ | $P = 4, C = 3$ | $P = 9, C = 2$ |\n",
        "| $m2$ | $P = 3, C = 2$  | $P = 3, C = 2$  | $P = 4, C = 3$ | $P = 9, C = 1$ | $P = 4, C = 1$ |\n",
        "| $m3$ | $P = 6, C = 3$  | $P = 10, C = 1$ | $P = 6, C = 1$ | $P = 11, C = 2$ | $P = 4, C = 1$ |\n",
        "\n",
        "| | $i1$ | $i2$ | $i3$ | $i4$ | $i5$ |\n",
        "| :---: | :---: | :---: | :---: | :---: | :---: |\n",
        "| $R$ | $2$ | $1$ | $3$ | $4$ | $5$ |\n",
        "| $D$ | $5$ | $8$ | $10$ | $12$ | $10$ |\n",
        "\n",
        "ここで、$i$はジョブ、$m$はマシン、$P$は処理時間、$C$はコスト、$R$はリリース日、$D$は締切日を表す。\n",
        "\n",
        "このとき、期待される解は以下のように表される。\n",
        "\n",
        "<table>\n",
        "    <thead>\n",
        "        <tr>\n",
        "            <th></th>\n",
        "            <th>$t0$</th>\n",
        "            <th>$t1$</th>\n",
        "            <th>$t2$</th>\n",
        "            <th>$t3$</th>\n",
        "            <th>$t4$</th>\n",
        "            <th>$t5$</th>\n",
        "            <th>$t6$</th>\n",
        "            <th>$t7$</th>\n",
        "            <th>$t8$</th>\n",
        "            <th>$t9$</th>\n",
        "        </tr>\n",
        "    </thead>\n",
        "    <tbody>\n",
        "        <tr>\n",
        "            <td>$m1$</td>\n",
        "            <td></td>\n",
        "            <td>$i2$</td>\n",
        "            <td>$i2$</td>\n",
        "            <td>$i2$</td>\n",
        "            <td>$i2$</td>\n",
        "            <td>$i2$</td>\n",
        "            <td>$i4$</td>\n",
        "            <td>$i4$</td>\n",
        "            <td>$i4$</td>\n",
        "            <td>$i4$</td>\n",
        "        </tr>\n",
        "        <tr>\n",
        "            <td>$m2$</td>\n",
        "            <td></td>\n",
        "            <td></td>\n",
        "            <td>$i1$</td>\n",
        "            <td>$i1$</td>\n",
        "            <td>$i1$</td>\n",
        "            <td>$i5$</td>\n",
        "            <td>$i5$</td>\n",
        "            <td>$i5$</td>\n",
        "            <td>$i5$</td>\n",
        "            <td></td>\n",
        "        </tr>\n",
        "        <tr>\n",
        "            <td>$m3$</td>\n",
        "            <td></td>\n",
        "            <td></td>\n",
        "            <td></td>\n",
        "            <td>$i3$</td>\n",
        "            <td>$i3$</td>\n",
        "            <td>$i3$</td>\n",
        "            <td>$i3$</td>\n",
        "            <td>$i3$</td>\n",
        "            <td>$i3$</td>\n",
        "            <td></td>\n",
        "        </tr>\n",
        "    </tbody>\n",
        "</table>\n",
        "\n",
        "ここで、$t$は処理時間を表す。"
      ]
    },
    {
      "cell_type": "markdown",
      "metadata": {
        "id": "95tq-1nDcKyJ"
      },
      "source": [
        "## パラメータの設定"
      ]
    },
    {
      "cell_type": "code",
      "metadata": {
        "id": "q1ZNKrYNGOlY"
      },
      "source": [
        "# ジョブの数\n",
        "I = 5\n",
        "# マシンの数\n",
        "M = 3"
      ],
      "execution_count": 3,
      "outputs": []
    },
    {
      "cell_type": "code",
      "metadata": {
        "id": "ClI-RpyK-exC"
      },
      "source": [
        "# ジョブiをマシンmで行うのにかかる時間P[i][m]\n",
        "P = [\n",
        "     [8, 3, 6],\n",
        "     [5, 3, 10],\n",
        "     [9, 4, 6],\n",
        "     [4, 9, 11],\n",
        "     [9, 4, 4]\n",
        "]"
      ],
      "execution_count": 4,
      "outputs": []
    },
    {
      "cell_type": "code",
      "metadata": {
        "id": "S5Zk6zuL7xk0"
      },
      "source": [
        "# コストC[i][m]\n",
        "# 横軸はマシンm、縦軸はジョブi\n",
        "C = [\n",
        "     [1, 2, 3],\n",
        "     [1, 2, 1],\n",
        "     [2, 3, 1],\n",
        "     [3, 1, 2],\n",
        "     [2, 1, 1]\n",
        "]"
      ],
      "execution_count": 5,
      "outputs": []
    },
    {
      "cell_type": "code",
      "metadata": {
        "id": "hYG69zPYX_dw"
      },
      "source": [
        "# リリース日\n",
        "R = [2, 1, 3, 4, 5]\n",
        "# 締切日\n",
        "D = [5, 8, 10, 12, 10]"
      ],
      "execution_count": 6,
      "outputs": []
    },
    {
      "cell_type": "code",
      "metadata": {
        "id": "_IciXbZ-Kr0M"
      },
      "source": [
        "# 各ジョブの最大処理時間の和を取得 (14)\n",
        "U = sum(max(P[i]) for m in range(M) for i in range(I))"
      ],
      "execution_count": 7,
      "outputs": []
    },
    {
      "cell_type": "markdown",
      "metadata": {
        "id": "a-4B69D7cgF6"
      },
      "source": [
        "## Relaxed MILPモデルの定式化"
      ]
    },
    {
      "cell_type": "code",
      "metadata": {
        "id": "ASkEwWjNHZvL"
      },
      "source": [
        "# MILPモデルの初期化\n",
        "prob = pulp.LpProblem('MILP', pulp.LpMinimize)\n",
        "\n",
        "# ジョブiがマシンmに割り当てられているかを表すバイナリ変数x[i][m]\n",
        "# (17)、(19) におけるx[i][m] ∈ {0, 1} が実質定義される\n",
        "x = [[pulp.LpVariable('x_{}_{}'.format(i, m), cat='Binary') for m in range(M)] for i in range(I)]\n",
        "    \n",
        "# 各マシンmでのジョブiの開始日ts[i]\n",
        "# 引数lowBoundにより、(17)、(19) におけるts[i] >= 0 が実質定義される\n",
        "ts = [pulp.LpVariable('ts_{}'.format(i), lowBound=0, cat='Integer') for i in range(I)]\n",
        "\n",
        "# 目的関数(objective function)\n",
        "obj = pulp.lpSum([C[i][m] * x[i][m] for i in range(I) for m in range(M)])\n",
        "\n",
        "# 目的関数を追加\n",
        "prob += obj\n",
        "\n",
        "# 制約条件を追加 (19)\n",
        "# ジョブに設定されたリリース日以降にジョブを開始 (10)\n",
        "for i in range(I):\n",
        "    prob += ts[i] >= R[i]\n",
        "\n",
        "# ジョブに設定された締切日に間に合うようにジョブを開始 (11)\n",
        "for i in range(I):\n",
        "    prob += ts[i] <= D[i] - pulp.lpSum([P[i][m] * x[i][m] for m in range(M)])\n",
        "\n",
        "# 各ジョブは1つのマシンのみで処理 (12)\n",
        "for i in range(I):\n",
        "    prob += pulp.lpSum([x[i][m] for m in range(M)]) == 1"
      ],
      "execution_count": 8,
      "outputs": []
    },
    {
      "cell_type": "markdown",
      "metadata": {
        "id": "0RjTYGzrcs27"
      },
      "source": [
        " ## Hybrid QC-MILP Decomposition Methodの実行"
      ]
    },
    {
      "cell_type": "code",
      "metadata": {
        "id": "yJ8uyJYzud3p",
        "colab": {
          "base_uri": "https://localhost:8080/"
        },
        "outputId": "bcdfc9d5-85af-400b-afb1-cc9407288430"
      },
      "source": [
        "# 最適解が得られたか\n",
        "opt = False\n",
        "# ループ回数をカウント\n",
        "iter = 0\n",
        "# QC stepで問題を解く回数\n",
        "num_reads = 10\n",
        "\n",
        "while not opt:\n",
        "    iter += 1\n",
        "\n",
        "    print('=====iter {}====='.format(iter))\n",
        "\n",
        "    # Relaxed MILP problemを解く\n",
        "    status = prob.solve()\n",
        "\n",
        "    # 実行結果の状態を文字列として取得\n",
        "    # 解が得られた場合はOptimalが取得される\n",
        "    # 文字列がOptimal以外(Infeasible, Infeasible, Unbounded, Undefined)の場合は制約条件を見直す\n",
        "    status_str = pulp.LpStatus[status]\n",
        "\n",
        "    print('MILP status = {}'.format(status_str))\n",
        "\n",
        "    print('-----MILP problem solution-----')\n",
        "    for v in prob.variables():\n",
        "        print('{} = {}'.format(v.name, v.varValue))\n",
        "\n",
        "    # Relaxed MILP problemの解が得られていればQC stepを実行\n",
        "    if pulp.LpStatus[status] == 'Optimal':\n",
        "        # Relaxed MILP problemの解を用いてQCで計算\n",
        "        # 同じマシンに割り当てられたジョブの順序を表すバイナリ変数y[i][j]\n",
        "        y = Array.create('y', shape=(I, I), vartype='BINARY')\n",
        "\n",
        "        # 集合Sを生成 (20)\n",
        "        S = []\n",
        "        for i in range(I):\n",
        "            for j in range(I):\n",
        "                if i != j:\n",
        "                    for m in range(M):\n",
        "                        if x[i][m].value() == 1 and x[j][m].value() == 1:\n",
        "                            S.append((i, j))\n",
        "\n",
        "        # 目的関数を定義 (20)\n",
        "        # 今回は目的関数がそのままハミルトニアンになる\n",
        "        H = sum((1 - y[i][j] - y[j][i] + 2 * y[i][j] * y[j][i] + y[i][j] *\n",
        "                    (U * (ts[i].value() - ts[j].value()) +\n",
        "                    sum(\n",
        "                        (P[i][m] * x[i][m].value()) for m in range(M)\n",
        "                    ))\n",
        "                ) for (i, j) in S)\n",
        "        \n",
        "        # モデルをコンパイル\n",
        "        model = H.compile()\n",
        "        qubo, offset = model.to_qubo()\n",
        "\n",
        "        # SQAを用いる\n",
        "        sampler = oj.SQASampler()\n",
        "\n",
        "        # SamplerにQUBOを渡す\n",
        "        response = sampler.sample_qubo(Q=qubo, num_reads=num_reads)\n",
        "\n",
        "        print('-----QC step solution-----')\n",
        "        print(response.first.sample)\n",
        "        print('----------')\n",
        "\n",
        "        # ガントチャートをm行t列で生成\n",
        "        gantt_chart = [['' for ts in range(max(D))] for m in range(M)]\n",
        "\n",
        "        # QCの解をデコード\n",
        "        decoded_sample = model.decode_sample(response.first.sample, vartype=\"BINARY\")\n",
        "\n",
        "        # 同じマシンに2つ以上ジョブが割り当てられている場合は実行可能かどうかチェック\n",
        "        seq_vars = [(i, j) for i, j in S if decoded_sample.array('y', (i, j)) == 1]\n",
        "\n",
        "        # 各ジョブの処理時間と割り当てられたマシンを取得\n",
        "        process_times = []\n",
        "        machines = []\n",
        "        for i in range(I):\n",
        "            for m in range(M):\n",
        "                if x[i][m].value() == 1:\n",
        "                    process_times.append(P[i][m])\n",
        "                    machines.append(m)\n",
        "\n",
        "        # ジョブが追加されたか\n",
        "        is_added = [False] * I\n",
        "\n",
        "        # 整数カットの対象となるマシンか\n",
        "        is_cut = [False] * M\n",
        "\n",
        "        # QC stepで求めたジョブの順序に基づきガントチャートにジョブを追加\n",
        "        # Relaxed MILPで求めたts[i]は順序を考慮していないのでジョブが同じ時間で重なる場合がある\n",
        "        # 同じ時間でジョブが重なる場合、後に実行されるジョブを先に実行したジョブの直後にスライドする\n",
        "        for i, j in seq_vars:\n",
        "            try:\n",
        "                if not is_added[i]:\n",
        "                    job_i_start_time = int(ts[i].value())\n",
        "                    job_i_end_time = job_i_start_time + process_times[i]\n",
        "                    job_i_machine = machines[i]\n",
        "\n",
        "                    # ジョブiの開始時刻と終了時刻が条件を満たしていなければ整数カットの対象に追加\n",
        "                    if job_i_start_time < R[i] or job_i_end_time > D[i]:\n",
        "                        is_cut[job_i_machine] = True\n",
        "                    \n",
        "                    # ジョブiを開始時刻から埋める\n",
        "                    for t in range(job_i_start_time, job_i_end_time):\n",
        "                        gantt_chart[job_i_machine][t] = 'j{}'.format(i)\n",
        "\n",
        "                    # ジョブiを追加済みに登録\n",
        "                    is_added[i] = True\n",
        "\n",
        "                if not is_added[j]:\n",
        "                    job_j_start_time = int(ts[j].value())\n",
        "                    job_j_machine = machines[i]\n",
        "\n",
        "                    # ジョブjの開始時刻が重ならないかチェック\n",
        "                    if gantt_chart[job_j_machine][job_j_start_time] != '':\n",
        "                        # すでにガントチャートにジョブが割り当てられていれば開始時間をジョブiの直後までずらす\n",
        "                        # 直前のジョブiはjob_i_end_time - 1まで割り当てられている\n",
        "                        job_j_start_time = job_i_end_time\n",
        "\n",
        "                    job_j_end_time = job_j_start_time + process_times[j]\n",
        "\n",
        "                    # ジョブjの開始時刻と終了時刻が条件を満たしていなければ整数カットの対象に追加\n",
        "                    if job_j_start_time < R[j] or job_i_end_time > D[j]:\n",
        "                        is_cut[job_j_machine] = True\n",
        "\n",
        "                    # ジョブjを開始時刻から埋める\n",
        "                    for t in range(job_j_start_time, job_j_end_time):\n",
        "                        gantt_chart[job_j_machine][t] = 'j{}'.format(j)\n",
        "\n",
        "                    # ジョブjを追加済みに登録\n",
        "                    is_added[j] = True\n",
        "            except IndexError:\n",
        "                # 最大時間をはみ出た場合は解が得られなかったとする\n",
        "                is_cut[job_i_machine] = True\n",
        "\n",
        "        # 整数カットの対象となるマシンが存在しなければ最適解が得られたとする\n",
        "        if True not in is_cut:\n",
        "            opt = True\n",
        "\n",
        "        # 1つのマシンに1つしか割り当てられていないジョブを追加\n",
        "        for i in range(I):\n",
        "            if not is_added[i]:\n",
        "                job_i_start_time = int(ts[i].value())\n",
        "                job_i_end_time = job_i_start_time + process_times[i]\n",
        "                job_i_machine = machines[i]\n",
        "                for t in range(job_i_start_time, job_i_end_time):\n",
        "                    gantt_chart[job_i_machine][t] = 'j{}'.format(i)\n",
        "        \n",
        "        # 最適解が得られたか表示\n",
        "        print('opt = {}'.format(opt))\n",
        "\n",
        "        # Relaxed MILPに整数カットを追加\n",
        "        # 同じ組み合わせの割り当てを除外\n",
        "        for m in range(M):\n",
        "            if is_cut[m]:\n",
        "                S_ = [i for i in range(I) if x[i][m].value() == 1]\n",
        "                prob += sum(x[i][m] for i in S_) <= len(S_) - 1\n",
        "    else:\n",
        "        # 解が存在しない場合は終了\n",
        "        print('No solution exists.')\n",
        "        print('Stop procedure and exit the loop.')\n",
        "        break"
      ],
      "execution_count": 9,
      "outputs": [
        {
          "output_type": "stream",
          "text": [
            "=====iter 1=====\n",
            "MILP status = Optimal\n",
            "-----MILP problem solution-----\n",
            "ts_0 = 2.0\n",
            "ts_1 = 1.0\n",
            "ts_2 = 3.0\n",
            "ts_3 = 4.0\n",
            "ts_4 = 5.0\n",
            "x_0_0 = 0.0\n",
            "x_0_1 = 1.0\n",
            "x_0_2 = 0.0\n",
            "x_1_0 = 1.0\n",
            "x_1_1 = 0.0\n",
            "x_1_2 = 0.0\n",
            "x_2_0 = 0.0\n",
            "x_2_1 = 0.0\n",
            "x_2_2 = 1.0\n",
            "x_3_0 = 1.0\n",
            "x_3_1 = 0.0\n",
            "x_3_2 = 0.0\n",
            "x_4_0 = 0.0\n",
            "x_4_1 = 0.0\n",
            "x_4_2 = 1.0\n",
            "-----QC step solution-----\n",
            "{'y[1][3]': 1, 'y[2][4]': 1, 'y[3][1]': 0, 'y[4][2]': 0}\n",
            "----------\n",
            "opt = False\n",
            "=====iter 2=====\n",
            "MILP status = Optimal\n",
            "-----MILP problem solution-----\n",
            "ts_0 = 2.0\n",
            "ts_1 = 1.0\n",
            "ts_2 = 3.0\n",
            "ts_3 = 4.0\n",
            "ts_4 = 5.0\n",
            "x_0_0 = 0.0\n",
            "x_0_1 = 1.0\n",
            "x_0_2 = 0.0\n",
            "x_1_0 = 1.0\n",
            "x_1_1 = 0.0\n",
            "x_1_2 = 0.0\n",
            "x_2_0 = 0.0\n",
            "x_2_1 = 0.0\n",
            "x_2_2 = 1.0\n",
            "x_3_0 = 1.0\n",
            "x_3_1 = 0.0\n",
            "x_3_2 = 0.0\n",
            "x_4_0 = 0.0\n",
            "x_4_1 = 1.0\n",
            "x_4_2 = 0.0\n",
            "-----QC step solution-----\n",
            "{'y[0][4]': 1, 'y[1][3]': 1, 'y[3][1]': 0, 'y[4][0]': 0}\n",
            "----------\n",
            "opt = True\n"
          ],
          "name": "stdout"
        }
      ]
    },
    {
      "cell_type": "markdown",
      "metadata": {
        "id": "OHqcZsijc0bC"
      },
      "source": [
        "## ガントチャートの出力"
      ]
    },
    {
      "cell_type": "markdown",
      "metadata": {
        "id": "ccYwRFtudB6J"
      },
      "source": [
        "例題で示した期待される解と異なり、ジョブとマシンの添え字が0から始まることに注意する。"
      ]
    },
    {
      "cell_type": "code",
      "metadata": {
        "colab": {
          "base_uri": "https://localhost:8080/",
          "height": 142
        },
        "id": "hgIlSJrZh80N",
        "outputId": "75d1ee80-31d6-45de-ebc4-73fcc9e5e452"
      },
      "source": [
        "# ガントチャートをDateFrameに変換\n",
        "df = pd.DataFrame(gantt_chart,\n",
        "                  index=['m' + str(m) for m in range(M)],\n",
        "                  columns=['t' + str(t) for t in range(max(D))])\n",
        "# ガントチャートを表示\n",
        "# ジョブとマシンの添え字が0から始まることに注意\n",
        "df"
      ],
      "execution_count": 10,
      "outputs": [
        {
          "output_type": "execute_result",
          "data": {
            "text/html": [
              "<div>\n",
              "<style scoped>\n",
              "    .dataframe tbody tr th:only-of-type {\n",
              "        vertical-align: middle;\n",
              "    }\n",
              "\n",
              "    .dataframe tbody tr th {\n",
              "        vertical-align: top;\n",
              "    }\n",
              "\n",
              "    .dataframe thead th {\n",
              "        text-align: right;\n",
              "    }\n",
              "</style>\n",
              "<table border=\"1\" class=\"dataframe\">\n",
              "  <thead>\n",
              "    <tr style=\"text-align: right;\">\n",
              "      <th></th>\n",
              "      <th>t0</th>\n",
              "      <th>t1</th>\n",
              "      <th>t2</th>\n",
              "      <th>t3</th>\n",
              "      <th>t4</th>\n",
              "      <th>t5</th>\n",
              "      <th>t6</th>\n",
              "      <th>t7</th>\n",
              "      <th>t8</th>\n",
              "      <th>t9</th>\n",
              "      <th>t10</th>\n",
              "      <th>t11</th>\n",
              "    </tr>\n",
              "  </thead>\n",
              "  <tbody>\n",
              "    <tr>\n",
              "      <th>m0</th>\n",
              "      <td></td>\n",
              "      <td>j1</td>\n",
              "      <td>j1</td>\n",
              "      <td>j1</td>\n",
              "      <td>j1</td>\n",
              "      <td>j1</td>\n",
              "      <td>j3</td>\n",
              "      <td>j3</td>\n",
              "      <td>j3</td>\n",
              "      <td>j3</td>\n",
              "      <td></td>\n",
              "      <td></td>\n",
              "    </tr>\n",
              "    <tr>\n",
              "      <th>m1</th>\n",
              "      <td></td>\n",
              "      <td></td>\n",
              "      <td>j0</td>\n",
              "      <td>j0</td>\n",
              "      <td>j0</td>\n",
              "      <td>j4</td>\n",
              "      <td>j4</td>\n",
              "      <td>j4</td>\n",
              "      <td>j4</td>\n",
              "      <td></td>\n",
              "      <td></td>\n",
              "      <td></td>\n",
              "    </tr>\n",
              "    <tr>\n",
              "      <th>m2</th>\n",
              "      <td></td>\n",
              "      <td></td>\n",
              "      <td></td>\n",
              "      <td>j2</td>\n",
              "      <td>j2</td>\n",
              "      <td>j2</td>\n",
              "      <td>j2</td>\n",
              "      <td>j2</td>\n",
              "      <td>j2</td>\n",
              "      <td></td>\n",
              "      <td></td>\n",
              "      <td></td>\n",
              "    </tr>\n",
              "  </tbody>\n",
              "</table>\n",
              "</div>"
            ],
            "text/plain": [
              "   t0  t1  t2  t3  t4  t5  t6  t7  t8  t9 t10 t11\n",
              "m0     j1  j1  j1  j1  j1  j3  j3  j3  j3        \n",
              "m1         j0  j0  j0  j4  j4  j4  j4            \n",
              "m2             j2  j2  j2  j2  j2  j2            "
            ]
          },
          "metadata": {
            "tags": []
          },
          "execution_count": 10
        }
      ]
    }
  ]
}