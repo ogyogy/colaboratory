{
  "nbformat": 4,
  "nbformat_minor": 0,
  "metadata": {
    "colab": {
      "name": "ajagekar2020quantum.ipynb",
      "provenance": [],
      "collapsed_sections": [],
      "authorship_tag": "ABX9TyPBQhqDQZbxzl9zA83/WE6Q",
      "include_colab_link": true
    },
    "kernelspec": {
      "name": "python3",
      "display_name": "Python 3"
    }
  },
  "cells": [
    {
      "cell_type": "markdown",
      "metadata": {
        "id": "view-in-github",
        "colab_type": "text"
      },
      "source": [
        "<a href=\"https://colab.research.google.com/github/ogyogy/colaboratory/blob/main/ajagekar2020quantum.ipynb\" target=\"_parent\"><img src=\"https://colab.research.google.com/assets/colab-badge.svg\" alt=\"Open In Colab\"/></a>"
      ]
    },
    {
      "cell_type": "markdown",
      "metadata": {
        "id": "FOOdtROVv2G5"
      },
      "source": [
        "# ajagekar2020quantum\n",
        "[PDF](https://arxiv.org/ftp/arxiv/papers/1910/1910.13045.pdf)"
      ]
    },
    {
      "cell_type": "code",
      "metadata": {
        "id": "NPX82REwUXfx",
        "colab": {
          "base_uri": "https://localhost:8080/"
        },
        "outputId": "bbb29b02-efcb-4943-9009-63fac4fb0276"
      },
      "source": [
        "pip install openjij pyqubo pulp"
      ],
      "execution_count": 1,
      "outputs": [
        {
          "output_type": "stream",
          "text": [
            "Requirement already satisfied: openjij in /usr/local/lib/python3.6/dist-packages (0.1.1)\n",
            "Requirement already satisfied: pyqubo in /usr/local/lib/python3.6/dist-packages (1.0.7)\n",
            "Requirement already satisfied: pulp in /usr/local/lib/python3.6/dist-packages (2.3.1)\n",
            "Requirement already satisfied: dimod>=0.9.1 in /usr/local/lib/python3.6/dist-packages (from openjij) (0.9.12)\n",
            "Requirement already satisfied: numpy>=1.18.4 in /usr/local/lib/python3.6/dist-packages (from openjij) (1.18.5)\n",
            "Requirement already satisfied: jij-cimod>=1.0.5 in /usr/local/lib/python3.6/dist-packages (from openjij) (1.0.5)\n",
            "Requirement already satisfied: scipy in /usr/local/lib/python3.6/dist-packages (from openjij) (1.4.1)\n",
            "Requirement already satisfied: requests in /usr/local/lib/python3.6/dist-packages (from openjij) (2.23.0)\n",
            "Requirement already satisfied: dwave-neal>=0.5.4 in /usr/local/lib/python3.6/dist-packages (from pyqubo) (0.5.7)\n",
            "Requirement already satisfied: six>=1.11.0 in /usr/local/lib/python3.6/dist-packages (from pyqubo) (1.15.0)\n",
            "Requirement already satisfied: Deprecated>=1.2.10 in /usr/local/lib/python3.6/dist-packages (from pyqubo) (1.2.10)\n",
            "Requirement already satisfied: amply>=0.1.2 in /usr/local/lib/python3.6/dist-packages (from pulp) (0.1.4)\n",
            "Requirement already satisfied: certifi>=2017.4.17 in /usr/local/lib/python3.6/dist-packages (from requests->openjij) (2020.11.8)\n",
            "Requirement already satisfied: idna<3,>=2.5 in /usr/local/lib/python3.6/dist-packages (from requests->openjij) (2.10)\n",
            "Requirement already satisfied: urllib3!=1.25.0,!=1.25.1,<1.26,>=1.21.1 in /usr/local/lib/python3.6/dist-packages (from requests->openjij) (1.24.3)\n",
            "Requirement already satisfied: chardet<4,>=3.0.2 in /usr/local/lib/python3.6/dist-packages (from requests->openjij) (3.0.4)\n",
            "Requirement already satisfied: wrapt<2,>=1.10 in /usr/local/lib/python3.6/dist-packages (from Deprecated>=1.2.10->pyqubo) (1.12.1)\n",
            "Requirement already satisfied: docutils>=0.3 in /usr/local/lib/python3.6/dist-packages (from amply>=0.1.2->pulp) (0.16)\n",
            "Requirement already satisfied: pyparsing in /usr/local/lib/python3.6/dist-packages (from amply>=0.1.2->pulp) (2.4.7)\n"
          ],
          "name": "stdout"
        }
      ]
    },
    {
      "cell_type": "code",
      "metadata": {
        "id": "n8BioSJx8tLT"
      },
      "source": [
        "# モジュールのインポート\n",
        "import pulp"
      ],
      "execution_count": 2,
      "outputs": []
    },
    {
      "cell_type": "code",
      "metadata": {
        "id": "56m1WioqNo69"
      },
      "source": [
        "# MILPモデルの初期化\n",
        "prob = pulp.LpProblem('MILP', pulp.LpMinimize)"
      ],
      "execution_count": 3,
      "outputs": []
    },
    {
      "cell_type": "code",
      "metadata": {
        "id": "q1ZNKrYNGOlY"
      },
      "source": [
        "# ジョブの数\n",
        "I = 5\n",
        "# マシンの数\n",
        "M = 3"
      ],
      "execution_count": 4,
      "outputs": []
    },
    {
      "cell_type": "code",
      "metadata": {
        "id": "ClI-RpyK-exC"
      },
      "source": [
        "# ジョブiをマシンmで行うのにかかる時間\n",
        "P = [\n",
        "     [8, 3, 6],     # ジョブ1\n",
        "     [5, 3, 10],    # ジョブ2\n",
        "     [9, 4, 6],     # ジョブ3\n",
        "     [4, 9, 11],    # ジョブ4\n",
        "     [9, 4, 4]      # ジョブ5\n",
        "]"
      ],
      "execution_count": 5,
      "outputs": []
    },
    {
      "cell_type": "code",
      "metadata": {
        "id": "S5Zk6zuL7xk0"
      },
      "source": [
        "# コスト\n",
        "# 横軸はマシンm、縦軸はジョブi\n",
        "C = [\n",
        "     [1, 2, 3], # ジョブ1\n",
        "     [1, 2, 1], # ジョブ2\n",
        "     [2, 3, 1], # ジョブ3\n",
        "     [3, 1, 2], # ジョブ4\n",
        "     [2, 1, 1]  # ジョブ5\n",
        "]"
      ],
      "execution_count": 6,
      "outputs": []
    },
    {
      "cell_type": "code",
      "metadata": {
        "id": "hYG69zPYX_dw"
      },
      "source": [
        "# リリース日\n",
        "R = [2, 1, 3, 4, 5]\n",
        "# 締切日\n",
        "D = [5, 8, 10, 12, 10]"
      ],
      "execution_count": 7,
      "outputs": []
    },
    {
      "cell_type": "code",
      "metadata": {
        "id": "9I44uw73FZMk"
      },
      "source": [
        "# ジョブiがマシンmに割り当てられているかを表すバイナリ変数x_im\n",
        "# pulpの変数として宣言\n",
        "# (17) (19) におけるx_i_m ∈ {0, 1} が実質定義される\n",
        "x = [[pulp.LpVariable('x_{}_{}'.format(i, m), cat='Binary') for m in range(M)] for i in range(I)]"
      ],
      "execution_count": 8,
      "outputs": []
    },
    {
      "cell_type": "code",
      "metadata": {
        "id": "4ejoQyv79W_B"
      },
      "source": [
        "# ジョブの前後関係\n",
        "y = [[pulp.LpVariable('y_{}_{}'.format(i, j), cat='Binary') for j in range(I)] for i in range(I)]"
      ],
      "execution_count": 9,
      "outputs": []
    },
    {
      "cell_type": "code",
      "metadata": {
        "id": "anjo9If-SAgZ"
      },
      "source": [
        "# 各マシンmでのジョブiの開始日ts_i\n",
        "# (17) (19) におけるts_i >= 0 が実質定義される\n",
        "ts = [pulp.LpVariable('ts_{}'.format(i), lowBound=0, cat='Integer') for i in range(I)]"
      ],
      "execution_count": 10,
      "outputs": []
    },
    {
      "cell_type": "code",
      "metadata": {
        "id": "YCg7EF3PHJTw"
      },
      "source": [
        "# 目的関数(objective function)\n",
        "obj = pulp.lpSum([C[i][m] * x[i][m] for i in range(I) for m in range(M)])"
      ],
      "execution_count": 11,
      "outputs": []
    },
    {
      "cell_type": "code",
      "metadata": {
        "id": "8WZkDOCfJfco"
      },
      "source": [
        "# 目的関数を追加\n",
        "prob += obj"
      ],
      "execution_count": 12,
      "outputs": []
    },
    {
      "cell_type": "code",
      "metadata": {
        "id": "KUFakybCDvLT"
      },
      "source": [
        "# 制約条件を追加 (19)\n",
        "# ジョブに設定されたリリース日以降にジョブを開始 (10)\n",
        "for i in range(I):\n",
        "    prob += ts[i] >= R[i]\n",
        "\n",
        "# ジョブに設定された締切日に間に合うようにジョブを開始 (11)\n",
        "for i in range(I):\n",
        "    prob += ts[i] <= D[i] - pulp.lpSum([P[i][m] * x[i][m] for m in range(M)])\n",
        "\n",
        "# 各ジョブは1つのマシンのみで処理 (12)\n",
        "for i in range(I):\n",
        "    prob += pulp.lpSum([x[i][m] for m in range(M)]) == 1\n",
        "\n",
        "# (13)\n",
        "# j > i\n",
        "for i in range(I):\n",
        "    for j in range(i + 1, I):\n",
        "        for m in range(M):\n",
        "            prob += y[i][j] + y[j][i] >= x[i][m] + x[j][m] - 1\n",
        "\n",
        "# (14)\n",
        "U = sum(max(P[i]) for m in range(M) for i in range(I))\n",
        "for i in range(I):\n",
        "    for j in range(I):\n",
        "        if i != j:\n",
        "            pass\n",
        "            prob += ts[j] >= ts[i] + pulp.lpSum([P[i][m] * x[i][m] for m in range(M)]) - U * (1 - y[i][j])\n",
        "\n",
        "# (15)\n",
        "# j > i\n",
        "for i in range(I):\n",
        "    for j in range(i + 1, I):\n",
        "        prob += y[i][j] + y[j][i] <= 1\n",
        "\n",
        "# (16)\n",
        "# j > i, m != n\n",
        "for i in range(I):\n",
        "    for j in range(i + 1, I):\n",
        "        for m in range(M):\n",
        "            for n in range(M):\n",
        "                if m != n:\n",
        "                    prob += y[i][j] + y[j][i] + x[i][m] + x[j][n] <= 2"
      ],
      "execution_count": 13,
      "outputs": []
    },
    {
      "cell_type": "code",
      "metadata": {
        "id": "wZJnWnkgNu35",
        "colab": {
          "base_uri": "https://localhost:8080/"
        },
        "outputId": "9248ccc9-3d8e-4a5c-c3ee-1e995a6a3d59"
      },
      "source": [
        "# 最終的な問題の定義を表示\n",
        "prob"
      ],
      "execution_count": 14,
      "outputs": [
        {
          "output_type": "execute_result",
          "data": {
            "text/plain": [
              "MILP:\n",
              "MINIMIZE\n",
              "1*x_0_0 + 2*x_0_1 + 3*x_0_2 + 1*x_1_0 + 2*x_1_1 + 1*x_1_2 + 2*x_2_0 + 3*x_2_1 + 1*x_2_2 + 3*x_3_0 + 1*x_3_1 + 2*x_3_2 + 2*x_4_0 + 1*x_4_1 + 1*x_4_2 + 0\n",
              "SUBJECT TO\n",
              "_C1: ts_0 >= 2\n",
              "\n",
              "_C2: ts_1 >= 1\n",
              "\n",
              "_C3: ts_2 >= 3\n",
              "\n",
              "_C4: ts_3 >= 4\n",
              "\n",
              "_C5: ts_4 >= 5\n",
              "\n",
              "_C6: ts_0 + 8 x_0_0 + 3 x_0_1 + 6 x_0_2 <= 5\n",
              "\n",
              "_C7: ts_1 + 5 x_1_0 + 3 x_1_1 + 10 x_1_2 <= 8\n",
              "\n",
              "_C8: ts_2 + 9 x_2_0 + 4 x_2_1 + 6 x_2_2 <= 10\n",
              "\n",
              "_C9: ts_3 + 4 x_3_0 + 9 x_3_1 + 11 x_3_2 <= 12\n",
              "\n",
              "_C10: ts_4 + 9 x_4_0 + 4 x_4_1 + 4 x_4_2 <= 10\n",
              "\n",
              "_C11: x_0_0 + x_0_1 + x_0_2 = 1\n",
              "\n",
              "_C12: x_1_0 + x_1_1 + x_1_2 = 1\n",
              "\n",
              "_C13: x_2_0 + x_2_1 + x_2_2 = 1\n",
              "\n",
              "_C14: x_3_0 + x_3_1 + x_3_2 = 1\n",
              "\n",
              "_C15: x_4_0 + x_4_1 + x_4_2 = 1\n",
              "\n",
              "_C16: - x_0_0 - x_1_0 + y_0_1 + y_1_0 >= -1\n",
              "\n",
              "_C17: - x_0_1 - x_1_1 + y_0_1 + y_1_0 >= -1\n",
              "\n",
              "_C18: - x_0_2 - x_1_2 + y_0_1 + y_1_0 >= -1\n",
              "\n",
              "_C19: - x_0_0 - x_2_0 + y_0_2 + y_2_0 >= -1\n",
              "\n",
              "_C20: - x_0_1 - x_2_1 + y_0_2 + y_2_0 >= -1\n",
              "\n",
              "_C21: - x_0_2 - x_2_2 + y_0_2 + y_2_0 >= -1\n",
              "\n",
              "_C22: - x_0_0 - x_3_0 + y_0_3 + y_3_0 >= -1\n",
              "\n",
              "_C23: - x_0_1 - x_3_1 + y_0_3 + y_3_0 >= -1\n",
              "\n",
              "_C24: - x_0_2 - x_3_2 + y_0_3 + y_3_0 >= -1\n",
              "\n",
              "_C25: - x_0_0 - x_4_0 + y_0_4 + y_4_0 >= -1\n",
              "\n",
              "_C26: - x_0_1 - x_4_1 + y_0_4 + y_4_0 >= -1\n",
              "\n",
              "_C27: - x_0_2 - x_4_2 + y_0_4 + y_4_0 >= -1\n",
              "\n",
              "_C28: - x_1_0 - x_2_0 + y_1_2 + y_2_1 >= -1\n",
              "\n",
              "_C29: - x_1_1 - x_2_1 + y_1_2 + y_2_1 >= -1\n",
              "\n",
              "_C30: - x_1_2 - x_2_2 + y_1_2 + y_2_1 >= -1\n",
              "\n",
              "_C31: - x_1_0 - x_3_0 + y_1_3 + y_3_1 >= -1\n",
              "\n",
              "_C32: - x_1_1 - x_3_1 + y_1_3 + y_3_1 >= -1\n",
              "\n",
              "_C33: - x_1_2 - x_3_2 + y_1_3 + y_3_1 >= -1\n",
              "\n",
              "_C34: - x_1_0 - x_4_0 + y_1_4 + y_4_1 >= -1\n",
              "\n",
              "_C35: - x_1_1 - x_4_1 + y_1_4 + y_4_1 >= -1\n",
              "\n",
              "_C36: - x_1_2 - x_4_2 + y_1_4 + y_4_1 >= -1\n",
              "\n",
              "_C37: - x_2_0 - x_3_0 + y_2_3 + y_3_2 >= -1\n",
              "\n",
              "_C38: - x_2_1 - x_3_1 + y_2_3 + y_3_2 >= -1\n",
              "\n",
              "_C39: - x_2_2 - x_3_2 + y_2_3 + y_3_2 >= -1\n",
              "\n",
              "_C40: - x_2_0 - x_4_0 + y_2_4 + y_4_2 >= -1\n",
              "\n",
              "_C41: - x_2_1 - x_4_1 + y_2_4 + y_4_2 >= -1\n",
              "\n",
              "_C42: - x_2_2 - x_4_2 + y_2_4 + y_4_2 >= -1\n",
              "\n",
              "_C43: - x_3_0 - x_4_0 + y_3_4 + y_4_3 >= -1\n",
              "\n",
              "_C44: - x_3_1 - x_4_1 + y_3_4 + y_4_3 >= -1\n",
              "\n",
              "_C45: - x_3_2 - x_4_2 + y_3_4 + y_4_3 >= -1\n",
              "\n",
              "_C46: - ts_0 + ts_1 - 8 x_0_0 - 3 x_0_1 - 6 x_0_2 - 141 y_0_1 >= -141\n",
              "\n",
              "_C47: - ts_0 + ts_2 - 8 x_0_0 - 3 x_0_1 - 6 x_0_2 - 141 y_0_2 >= -141\n",
              "\n",
              "_C48: - ts_0 + ts_3 - 8 x_0_0 - 3 x_0_1 - 6 x_0_2 - 141 y_0_3 >= -141\n",
              "\n",
              "_C49: - ts_0 + ts_4 - 8 x_0_0 - 3 x_0_1 - 6 x_0_2 - 141 y_0_4 >= -141\n",
              "\n",
              "_C50: ts_0 - ts_1 - 5 x_1_0 - 3 x_1_1 - 10 x_1_2 - 141 y_1_0 >= -141\n",
              "\n",
              "_C51: - ts_1 + ts_2 - 5 x_1_0 - 3 x_1_1 - 10 x_1_2 - 141 y_1_2 >= -141\n",
              "\n",
              "_C52: - ts_1 + ts_3 - 5 x_1_0 - 3 x_1_1 - 10 x_1_2 - 141 y_1_3 >= -141\n",
              "\n",
              "_C53: - ts_1 + ts_4 - 5 x_1_0 - 3 x_1_1 - 10 x_1_2 - 141 y_1_4 >= -141\n",
              "\n",
              "_C54: ts_0 - ts_2 - 9 x_2_0 - 4 x_2_1 - 6 x_2_2 - 141 y_2_0 >= -141\n",
              "\n",
              "_C55: ts_1 - ts_2 - 9 x_2_0 - 4 x_2_1 - 6 x_2_2 - 141 y_2_1 >= -141\n",
              "\n",
              "_C56: - ts_2 + ts_3 - 9 x_2_0 - 4 x_2_1 - 6 x_2_2 - 141 y_2_3 >= -141\n",
              "\n",
              "_C57: - ts_2 + ts_4 - 9 x_2_0 - 4 x_2_1 - 6 x_2_2 - 141 y_2_4 >= -141\n",
              "\n",
              "_C58: ts_0 - ts_3 - 4 x_3_0 - 9 x_3_1 - 11 x_3_2 - 141 y_3_0 >= -141\n",
              "\n",
              "_C59: ts_1 - ts_3 - 4 x_3_0 - 9 x_3_1 - 11 x_3_2 - 141 y_3_1 >= -141\n",
              "\n",
              "_C60: ts_2 - ts_3 - 4 x_3_0 - 9 x_3_1 - 11 x_3_2 - 141 y_3_2 >= -141\n",
              "\n",
              "_C61: - ts_3 + ts_4 - 4 x_3_0 - 9 x_3_1 - 11 x_3_2 - 141 y_3_4 >= -141\n",
              "\n",
              "_C62: ts_0 - ts_4 - 9 x_4_0 - 4 x_4_1 - 4 x_4_2 - 141 y_4_0 >= -141\n",
              "\n",
              "_C63: ts_1 - ts_4 - 9 x_4_0 - 4 x_4_1 - 4 x_4_2 - 141 y_4_1 >= -141\n",
              "\n",
              "_C64: ts_2 - ts_4 - 9 x_4_0 - 4 x_4_1 - 4 x_4_2 - 141 y_4_2 >= -141\n",
              "\n",
              "_C65: ts_3 - ts_4 - 9 x_4_0 - 4 x_4_1 - 4 x_4_2 - 141 y_4_3 >= -141\n",
              "\n",
              "_C66: y_0_1 + y_1_0 <= 1\n",
              "\n",
              "_C67: y_0_2 + y_2_0 <= 1\n",
              "\n",
              "_C68: y_0_3 + y_3_0 <= 1\n",
              "\n",
              "_C69: y_0_4 + y_4_0 <= 1\n",
              "\n",
              "_C70: y_1_2 + y_2_1 <= 1\n",
              "\n",
              "_C71: y_1_3 + y_3_1 <= 1\n",
              "\n",
              "_C72: y_1_4 + y_4_1 <= 1\n",
              "\n",
              "_C73: y_2_3 + y_3_2 <= 1\n",
              "\n",
              "_C74: y_2_4 + y_4_2 <= 1\n",
              "\n",
              "_C75: y_3_4 + y_4_3 <= 1\n",
              "\n",
              "_C76: x_0_0 + x_1_1 + y_0_1 + y_1_0 <= 2\n",
              "\n",
              "_C77: x_0_0 + x_1_2 + y_0_1 + y_1_0 <= 2\n",
              "\n",
              "_C78: x_0_1 + x_1_0 + y_0_1 + y_1_0 <= 2\n",
              "\n",
              "_C79: x_0_1 + x_1_2 + y_0_1 + y_1_0 <= 2\n",
              "\n",
              "_C80: x_0_2 + x_1_0 + y_0_1 + y_1_0 <= 2\n",
              "\n",
              "_C81: x_0_2 + x_1_1 + y_0_1 + y_1_0 <= 2\n",
              "\n",
              "_C82: x_0_0 + x_2_1 + y_0_2 + y_2_0 <= 2\n",
              "\n",
              "_C83: x_0_0 + x_2_2 + y_0_2 + y_2_0 <= 2\n",
              "\n",
              "_C84: x_0_1 + x_2_0 + y_0_2 + y_2_0 <= 2\n",
              "\n",
              "_C85: x_0_1 + x_2_2 + y_0_2 + y_2_0 <= 2\n",
              "\n",
              "_C86: x_0_2 + x_2_0 + y_0_2 + y_2_0 <= 2\n",
              "\n",
              "_C87: x_0_2 + x_2_1 + y_0_2 + y_2_0 <= 2\n",
              "\n",
              "_C88: x_0_0 + x_3_1 + y_0_3 + y_3_0 <= 2\n",
              "\n",
              "_C89: x_0_0 + x_3_2 + y_0_3 + y_3_0 <= 2\n",
              "\n",
              "_C90: x_0_1 + x_3_0 + y_0_3 + y_3_0 <= 2\n",
              "\n",
              "_C91: x_0_1 + x_3_2 + y_0_3 + y_3_0 <= 2\n",
              "\n",
              "_C92: x_0_2 + x_3_0 + y_0_3 + y_3_0 <= 2\n",
              "\n",
              "_C93: x_0_2 + x_3_1 + y_0_3 + y_3_0 <= 2\n",
              "\n",
              "_C94: x_0_0 + x_4_1 + y_0_4 + y_4_0 <= 2\n",
              "\n",
              "_C95: x_0_0 + x_4_2 + y_0_4 + y_4_0 <= 2\n",
              "\n",
              "_C96: x_0_1 + x_4_0 + y_0_4 + y_4_0 <= 2\n",
              "\n",
              "_C97: x_0_1 + x_4_2 + y_0_4 + y_4_0 <= 2\n",
              "\n",
              "_C98: x_0_2 + x_4_0 + y_0_4 + y_4_0 <= 2\n",
              "\n",
              "_C99: x_0_2 + x_4_1 + y_0_4 + y_4_0 <= 2\n",
              "\n",
              "_C100: x_1_0 + x_2_1 + y_1_2 + y_2_1 <= 2\n",
              "\n",
              "_C101: x_1_0 + x_2_2 + y_1_2 + y_2_1 <= 2\n",
              "\n",
              "_C102: x_1_1 + x_2_0 + y_1_2 + y_2_1 <= 2\n",
              "\n",
              "_C103: x_1_1 + x_2_2 + y_1_2 + y_2_1 <= 2\n",
              "\n",
              "_C104: x_1_2 + x_2_0 + y_1_2 + y_2_1 <= 2\n",
              "\n",
              "_C105: x_1_2 + x_2_1 + y_1_2 + y_2_1 <= 2\n",
              "\n",
              "_C106: x_1_0 + x_3_1 + y_1_3 + y_3_1 <= 2\n",
              "\n",
              "_C107: x_1_0 + x_3_2 + y_1_3 + y_3_1 <= 2\n",
              "\n",
              "_C108: x_1_1 + x_3_0 + y_1_3 + y_3_1 <= 2\n",
              "\n",
              "_C109: x_1_1 + x_3_2 + y_1_3 + y_3_1 <= 2\n",
              "\n",
              "_C110: x_1_2 + x_3_0 + y_1_3 + y_3_1 <= 2\n",
              "\n",
              "_C111: x_1_2 + x_3_1 + y_1_3 + y_3_1 <= 2\n",
              "\n",
              "_C112: x_1_0 + x_4_1 + y_1_4 + y_4_1 <= 2\n",
              "\n",
              "_C113: x_1_0 + x_4_2 + y_1_4 + y_4_1 <= 2\n",
              "\n",
              "_C114: x_1_1 + x_4_0 + y_1_4 + y_4_1 <= 2\n",
              "\n",
              "_C115: x_1_1 + x_4_2 + y_1_4 + y_4_1 <= 2\n",
              "\n",
              "_C116: x_1_2 + x_4_0 + y_1_4 + y_4_1 <= 2\n",
              "\n",
              "_C117: x_1_2 + x_4_1 + y_1_4 + y_4_1 <= 2\n",
              "\n",
              "_C118: x_2_0 + x_3_1 + y_2_3 + y_3_2 <= 2\n",
              "\n",
              "_C119: x_2_0 + x_3_2 + y_2_3 + y_3_2 <= 2\n",
              "\n",
              "_C120: x_2_1 + x_3_0 + y_2_3 + y_3_2 <= 2\n",
              "\n",
              "_C121: x_2_1 + x_3_2 + y_2_3 + y_3_2 <= 2\n",
              "\n",
              "_C122: x_2_2 + x_3_0 + y_2_3 + y_3_2 <= 2\n",
              "\n",
              "_C123: x_2_2 + x_3_1 + y_2_3 + y_3_2 <= 2\n",
              "\n",
              "_C124: x_2_0 + x_4_1 + y_2_4 + y_4_2 <= 2\n",
              "\n",
              "_C125: x_2_0 + x_4_2 + y_2_4 + y_4_2 <= 2\n",
              "\n",
              "_C126: x_2_1 + x_4_0 + y_2_4 + y_4_2 <= 2\n",
              "\n",
              "_C127: x_2_1 + x_4_2 + y_2_4 + y_4_2 <= 2\n",
              "\n",
              "_C128: x_2_2 + x_4_0 + y_2_4 + y_4_2 <= 2\n",
              "\n",
              "_C129: x_2_2 + x_4_1 + y_2_4 + y_4_2 <= 2\n",
              "\n",
              "_C130: x_3_0 + x_4_1 + y_3_4 + y_4_3 <= 2\n",
              "\n",
              "_C131: x_3_0 + x_4_2 + y_3_4 + y_4_3 <= 2\n",
              "\n",
              "_C132: x_3_1 + x_4_0 + y_3_4 + y_4_3 <= 2\n",
              "\n",
              "_C133: x_3_1 + x_4_2 + y_3_4 + y_4_3 <= 2\n",
              "\n",
              "_C134: x_3_2 + x_4_0 + y_3_4 + y_4_3 <= 2\n",
              "\n",
              "_C135: x_3_2 + x_4_1 + y_3_4 + y_4_3 <= 2\n",
              "\n",
              "VARIABLES\n",
              "0 <= ts_0 Integer\n",
              "0 <= ts_1 Integer\n",
              "0 <= ts_2 Integer\n",
              "0 <= ts_3 Integer\n",
              "0 <= ts_4 Integer\n",
              "0 <= x_0_0 <= 1 Integer\n",
              "0 <= x_0_1 <= 1 Integer\n",
              "0 <= x_0_2 <= 1 Integer\n",
              "0 <= x_1_0 <= 1 Integer\n",
              "0 <= x_1_1 <= 1 Integer\n",
              "0 <= x_1_2 <= 1 Integer\n",
              "0 <= x_2_0 <= 1 Integer\n",
              "0 <= x_2_1 <= 1 Integer\n",
              "0 <= x_2_2 <= 1 Integer\n",
              "0 <= x_3_0 <= 1 Integer\n",
              "0 <= x_3_1 <= 1 Integer\n",
              "0 <= x_3_2 <= 1 Integer\n",
              "0 <= x_4_0 <= 1 Integer\n",
              "0 <= x_4_1 <= 1 Integer\n",
              "0 <= x_4_2 <= 1 Integer\n",
              "0 <= y_0_1 <= 1 Integer\n",
              "0 <= y_0_2 <= 1 Integer\n",
              "0 <= y_0_3 <= 1 Integer\n",
              "0 <= y_0_4 <= 1 Integer\n",
              "0 <= y_1_0 <= 1 Integer\n",
              "0 <= y_1_2 <= 1 Integer\n",
              "0 <= y_1_3 <= 1 Integer\n",
              "0 <= y_1_4 <= 1 Integer\n",
              "0 <= y_2_0 <= 1 Integer\n",
              "0 <= y_2_1 <= 1 Integer\n",
              "0 <= y_2_3 <= 1 Integer\n",
              "0 <= y_2_4 <= 1 Integer\n",
              "0 <= y_3_0 <= 1 Integer\n",
              "0 <= y_3_1 <= 1 Integer\n",
              "0 <= y_3_2 <= 1 Integer\n",
              "0 <= y_3_4 <= 1 Integer\n",
              "0 <= y_4_0 <= 1 Integer\n",
              "0 <= y_4_1 <= 1 Integer\n",
              "0 <= y_4_2 <= 1 Integer\n",
              "0 <= y_4_3 <= 1 Integer"
            ]
          },
          "metadata": {
            "tags": []
          },
          "execution_count": 14
        }
      ]
    },
    {
      "cell_type": "code",
      "metadata": {
        "id": "n_2SoB4mGF9C"
      },
      "source": [
        "# MILPを解く\n",
        "status = prob.solve()"
      ],
      "execution_count": 15,
      "outputs": []
    },
    {
      "cell_type": "code",
      "metadata": {
        "id": "YkjhOJzfGOB8",
        "colab": {
          "base_uri": "https://localhost:8080/",
          "height": 35
        },
        "outputId": "f44c1286-d118-414a-adf3-f0ae886589f2"
      },
      "source": [
        "# 実行結果の状態を表示\n",
        "# 解けていればOptimalと表示される\n",
        "# それ以外の表示(Infeasible, Infeasible, Unbounded, Undefined)が出た場合には制約条件を見直す\n",
        "pulp.LpStatus[status]"
      ],
      "execution_count": 16,
      "outputs": [
        {
          "output_type": "execute_result",
          "data": {
            "application/vnd.google.colaboratory.intrinsic+json": {
              "type": "string"
            },
            "text/plain": [
              "'Optimal'"
            ]
          },
          "metadata": {
            "tags": []
          },
          "execution_count": 16
        }
      ]
    },
    {
      "cell_type": "code",
      "metadata": {
        "colab": {
          "base_uri": "https://localhost:8080/"
        },
        "id": "v7O4nWDUQyuJ",
        "outputId": "6420493c-04f1-43c7-996a-2ab4bdc3edfe"
      },
      "source": [
        "# ランダム生成した処理時間PとコストCを表示\n",
        "for i in range(I):\n",
        "    for m in range(M):\n",
        "        print('P_{}_{} = {},\\tC_{}_{} = {}'.format(i, m, P[i][m], i, m, C[i][m]))"
      ],
      "execution_count": 17,
      "outputs": [
        {
          "output_type": "stream",
          "text": [
            "P_0_0 = 8,\tC_0_0 = 1\n",
            "P_0_1 = 3,\tC_0_1 = 2\n",
            "P_0_2 = 6,\tC_0_2 = 3\n",
            "P_1_0 = 5,\tC_1_0 = 1\n",
            "P_1_1 = 3,\tC_1_1 = 2\n",
            "P_1_2 = 10,\tC_1_2 = 1\n",
            "P_2_0 = 9,\tC_2_0 = 2\n",
            "P_2_1 = 4,\tC_2_1 = 3\n",
            "P_2_2 = 6,\tC_2_2 = 1\n",
            "P_3_0 = 4,\tC_3_0 = 3\n",
            "P_3_1 = 9,\tC_3_1 = 1\n",
            "P_3_2 = 11,\tC_3_2 = 2\n",
            "P_4_0 = 9,\tC_4_0 = 2\n",
            "P_4_1 = 4,\tC_4_1 = 1\n",
            "P_4_2 = 4,\tC_4_2 = 1\n"
          ],
          "name": "stdout"
        }
      ]
    },
    {
      "cell_type": "code",
      "metadata": {
        "colab": {
          "base_uri": "https://localhost:8080/"
        },
        "id": "6mF9XJ6tYstp",
        "outputId": "da63d473-150c-4292-e0cc-ac5e29364b16"
      },
      "source": [
        "# リリース日と締切日を表示\n",
        "for i in range(I):\n",
        "    print('R_{} = {},\\tD_{} = {}'.format(i, R[i], i, D[i]))"
      ],
      "execution_count": 18,
      "outputs": [
        {
          "output_type": "stream",
          "text": [
            "R_0 = 2,\tD_0 = 5\n",
            "R_1 = 1,\tD_1 = 8\n",
            "R_2 = 3,\tD_2 = 10\n",
            "R_3 = 4,\tD_3 = 12\n",
            "R_4 = 5,\tD_4 = 10\n"
          ],
          "name": "stdout"
        }
      ]
    },
    {
      "cell_type": "code",
      "metadata": {
        "colab": {
          "base_uri": "https://localhost:8080/"
        },
        "id": "NM0xy0PlEzGX",
        "outputId": "35117166-cc28-4450-ea25-a5d73bfb8d13"
      },
      "source": [
        "# ジョブごとに割り当てられたマシンと開始時間を表示\n",
        "for i in range(I):\n",
        "    m = 'na'\n",
        "    for m in range(M):\n",
        "        if x[i][m].value() == 1:\n",
        "            print('i = {}:\\tm = {},\\tts = {}'.format(i, m, ts[i].value()))"
      ],
      "execution_count": 19,
      "outputs": [
        {
          "output_type": "stream",
          "text": [
            "i = 0:\tm = 1,\tts = 2.0\n",
            "i = 1:\tm = 0,\tts = 1.0\n",
            "i = 2:\tm = 2,\tts = 3.0\n",
            "i = 3:\tm = 0,\tts = 6.0\n",
            "i = 4:\tm = 1,\tts = 5.0\n"
          ],
          "name": "stdout"
        }
      ]
    },
    {
      "cell_type": "code",
      "metadata": {
        "id": "uaUyCWV3HMzX"
      },
      "source": [
        "# 割り当て結果のうち最も遅い終了時間を取得\n",
        "t_max = 0\n",
        "for i in range(I):\n",
        "    for m in range(M):\n",
        "        if x[i][m].value() == 1:\n",
        "            t_max = max(t_max, int(ts[i].value() + P[i][m]))\n",
        "# ガントチャートをm行t列で生成\n",
        "time_table = [['na' for ts in range(t_max)] for m in range(M)]\n",
        "# ガントチャートに割り当て結果を追加\n",
        "for i in range(I):\n",
        "    m = 'na'\n",
        "    # マシンを取得\n",
        "    for m in range(M):\n",
        "        if x[i][m].value() == 1:\n",
        "            # 開始時間を取得\n",
        "            ts_ = int(ts[i].value())\n",
        "            # 処理時間を取得\n",
        "            P_ = P[i][m]\n",
        "            # テーブルに追加\n",
        "            for t in range(ts_, ts_ + P_):\n",
        "                time_table[m][t] = 'j' + str(i)"
      ],
      "execution_count": 20,
      "outputs": []
    },
    {
      "cell_type": "code",
      "metadata": {
        "colab": {
          "base_uri": "https://localhost:8080/",
          "height": 142
        },
        "id": "sLRZjpuhMkQT",
        "outputId": "8c40925d-c761-4a14-a653-06d86c0776f2"
      },
      "source": [
        "# ガントチャートを表示\n",
        "import pandas as pd\n",
        "df = pd.DataFrame(time_table,\n",
        "                  index=['m' + str(m) for m in range(M)],\n",
        "                  columns=['t' + str(t) for t in range(t_max)])\n",
        "df"
      ],
      "execution_count": 21,
      "outputs": [
        {
          "output_type": "execute_result",
          "data": {
            "text/html": [
              "<div>\n",
              "<style scoped>\n",
              "    .dataframe tbody tr th:only-of-type {\n",
              "        vertical-align: middle;\n",
              "    }\n",
              "\n",
              "    .dataframe tbody tr th {\n",
              "        vertical-align: top;\n",
              "    }\n",
              "\n",
              "    .dataframe thead th {\n",
              "        text-align: right;\n",
              "    }\n",
              "</style>\n",
              "<table border=\"1\" class=\"dataframe\">\n",
              "  <thead>\n",
              "    <tr style=\"text-align: right;\">\n",
              "      <th></th>\n",
              "      <th>t0</th>\n",
              "      <th>t1</th>\n",
              "      <th>t2</th>\n",
              "      <th>t3</th>\n",
              "      <th>t4</th>\n",
              "      <th>t5</th>\n",
              "      <th>t6</th>\n",
              "      <th>t7</th>\n",
              "      <th>t8</th>\n",
              "      <th>t9</th>\n",
              "    </tr>\n",
              "  </thead>\n",
              "  <tbody>\n",
              "    <tr>\n",
              "      <th>m0</th>\n",
              "      <td>na</td>\n",
              "      <td>j1</td>\n",
              "      <td>j1</td>\n",
              "      <td>j1</td>\n",
              "      <td>j1</td>\n",
              "      <td>j1</td>\n",
              "      <td>j3</td>\n",
              "      <td>j3</td>\n",
              "      <td>j3</td>\n",
              "      <td>j3</td>\n",
              "    </tr>\n",
              "    <tr>\n",
              "      <th>m1</th>\n",
              "      <td>na</td>\n",
              "      <td>na</td>\n",
              "      <td>j0</td>\n",
              "      <td>j0</td>\n",
              "      <td>j0</td>\n",
              "      <td>j4</td>\n",
              "      <td>j4</td>\n",
              "      <td>j4</td>\n",
              "      <td>j4</td>\n",
              "      <td>na</td>\n",
              "    </tr>\n",
              "    <tr>\n",
              "      <th>m2</th>\n",
              "      <td>na</td>\n",
              "      <td>na</td>\n",
              "      <td>na</td>\n",
              "      <td>j2</td>\n",
              "      <td>j2</td>\n",
              "      <td>j2</td>\n",
              "      <td>j2</td>\n",
              "      <td>j2</td>\n",
              "      <td>j2</td>\n",
              "      <td>na</td>\n",
              "    </tr>\n",
              "  </tbody>\n",
              "</table>\n",
              "</div>"
            ],
            "text/plain": [
              "    t0  t1  t2  t3  t4  t5  t6  t7  t8  t9\n",
              "m0  na  j1  j1  j1  j1  j1  j3  j3  j3  j3\n",
              "m1  na  na  j0  j0  j0  j4  j4  j4  j4  na\n",
              "m2  na  na  na  j2  j2  j2  j2  j2  j2  na"
            ]
          },
          "metadata": {
            "tags": []
          },
          "execution_count": 21
        }
      ]
    }
  ]
}