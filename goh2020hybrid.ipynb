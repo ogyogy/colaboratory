{
  "nbformat": 4,
  "nbformat_minor": 0,
  "metadata": {
    "colab": {
      "name": "goh2020hybrid.ipynb",
      "provenance": [],
      "collapsed_sections": [],
      "authorship_tag": "ABX9TyOXtAH4HxrktRHNgHjZvzhX",
      "include_colab_link": true
    },
    "kernelspec": {
      "name": "python3",
      "display_name": "Python 3"
    }
  },
  "cells": [
    {
      "cell_type": "markdown",
      "metadata": {
        "id": "view-in-github",
        "colab_type": "text"
      },
      "source": [
        "<a href=\"https://colab.research.google.com/github/ogyogy/colaboratory/blob/main/goh2020hybrid.ipynb\" target=\"_parent\"><img src=\"https://colab.research.google.com/assets/colab-badge.svg\" alt=\"Open In Colab\"/></a>"
      ]
    },
    {
      "cell_type": "markdown",
      "metadata": {
        "id": "KokcYJtqIg_p"
      },
      "source": [
        "# A Hybrid Framework Using a QUBO Solver For Permutation-Based Combinatorial Optimization\r\n",
        "[PDF](https://arxiv.org/pdf/2009.12767.pdf)"
      ]
    },
    {
      "cell_type": "markdown",
      "metadata": {
        "id": "L8muuLCzI-Eb"
      },
      "source": [
        "## モジュールのインストール"
      ]
    },
    {
      "cell_type": "code",
      "metadata": {
        "colab": {
          "base_uri": "https://localhost:8080/"
        },
        "id": "cN3DldjXk4Ge",
        "outputId": "5f253e12-274a-4749-9538-244fd99ce079"
      },
      "source": [
        "!pip install openjij pyqubo"
      ],
      "execution_count": 1,
      "outputs": [
        {
          "output_type": "stream",
          "text": [
            "Requirement already satisfied: openjij in /usr/local/lib/python3.6/dist-packages (0.1.1)\n",
            "Requirement already satisfied: pyqubo in /usr/local/lib/python3.6/dist-packages (1.0.10)\n",
            "Requirement already satisfied: numpy>=1.18.4 in /usr/local/lib/python3.6/dist-packages (from openjij) (1.19.5)\n",
            "Requirement already satisfied: scipy in /usr/local/lib/python3.6/dist-packages (from openjij) (1.4.1)\n",
            "Requirement already satisfied: dimod>=0.9.1 in /usr/local/lib/python3.6/dist-packages (from openjij) (0.9.13)\n",
            "Requirement already satisfied: requests in /usr/local/lib/python3.6/dist-packages (from openjij) (2.23.0)\n",
            "Requirement already satisfied: jij-cimod>=1.0.5 in /usr/local/lib/python3.6/dist-packages (from openjij) (1.0.5)\n",
            "Requirement already satisfied: Deprecated>=1.2.10 in /usr/local/lib/python3.6/dist-packages (from pyqubo) (1.2.11)\n",
            "Requirement already satisfied: dwave-neal>=0.5.7 in /usr/local/lib/python3.6/dist-packages (from pyqubo) (0.5.7)\n",
            "Requirement already satisfied: six>=1.11.0 in /usr/local/lib/python3.6/dist-packages (from pyqubo) (1.15.0)\n",
            "Requirement already satisfied: certifi>=2017.4.17 in /usr/local/lib/python3.6/dist-packages (from requests->openjij) (2020.12.5)\n",
            "Requirement already satisfied: idna<3,>=2.5 in /usr/local/lib/python3.6/dist-packages (from requests->openjij) (2.10)\n",
            "Requirement already satisfied: urllib3!=1.25.0,!=1.25.1,<1.26,>=1.21.1 in /usr/local/lib/python3.6/dist-packages (from requests->openjij) (1.24.3)\n",
            "Requirement already satisfied: chardet<4,>=3.0.2 in /usr/local/lib/python3.6/dist-packages (from requests->openjij) (3.0.4)\n",
            "Requirement already satisfied: wrapt<2,>=1.10 in /usr/local/lib/python3.6/dist-packages (from Deprecated>=1.2.10->pyqubo) (1.12.1)\n"
          ],
          "name": "stdout"
        }
      ]
    },
    {
      "cell_type": "markdown",
      "metadata": {
        "id": "JbEMzU_1JBvj"
      },
      "source": [
        "## モジュールのインポート"
      ]
    },
    {
      "cell_type": "code",
      "metadata": {
        "id": "z9ZwzRjniNJU"
      },
      "source": [
        "from pyqubo import Array, Constraint, solve_qubo\r\n",
        "import itertools\r\n",
        "import openjij as oj"
      ],
      "execution_count": 2,
      "outputs": []
    },
    {
      "cell_type": "markdown",
      "metadata": {
        "id": "Ar4mxMU_JFlR"
      },
      "source": [
        "## 4 Application 1: Traveling Salesman Problem (TSP)\r\n"
      ]
    },
    {
      "cell_type": "markdown",
      "metadata": {
        "id": "3i_suwQbJOjo"
      },
      "source": [
        "### 解説\r\n",
        "\r\n",
        "$n$箇所の都市がある。\r\n",
        "\r\n",
        "このとき、スタート地点から出発し、全ての都市を訪問して、再びスタート地点に戻る場合の最短経路を求める。\r\n",
        "\r\n",
        "都市$u$から$v$への移動距離$d_{uv}$は事前に定義されているものとする。\r\n",
        "\r\n",
        "TSP (巡回セールスマン問題) のQUBO表現は以下のように表される。\r\n",
        "\r\n",
        "$\\underset{x}{\\min} H_B(x) + AH_A(x)$\r\n",
        "\r\n",
        "ここで、\r\n",
        "\r\n",
        "$H_B(x) = \\sum_{(u, v) \\in E} d_{uv} \\sum^{n}_{j = 1} x_{u, j} x_{v, j + 1}$\r\n",
        "\r\n",
        "は経路長 (コスト、目的関数) を表し、\r\n",
        "\r\n",
        "$H_A = \\sum^{n}_{v = 1} (1 - \\sum^{n}_{j = 1} x_{v, j})^2 + \\sum^{n}_{j = 1} (1 - \\sum^{n}_{v = 1} x_{v, j})^2$\r\n",
        "\r\n",
        "は制約条件を表す。\r\n",
        "\r\n",
        "制約条件の第一項は同じ都市に2回以上移動できないこと、第二項は同時に2つの都市に移動できないことを表す。\r\n",
        "\r\n"
      ]
    },
    {
      "cell_type": "markdown",
      "metadata": {
        "id": "3fizmshcnE9m"
      },
      "source": [
        "### 例題\r\n",
        "\r\n",
        "[Numerical Optimizer SIMPLE例題集](https://www.msi.co.jp/nuopt/docs/v19/examples/html/02-12-00.html) における、巡回セールスマン問題の例題を使用する。"
      ]
    },
    {
      "cell_type": "markdown",
      "metadata": {
        "id": "oWvWW41JoXEb"
      },
      "source": [
        "最初に、$n$と$d_{uv}$を定義する。"
      ]
    },
    {
      "cell_type": "code",
      "metadata": {
        "id": "StQjbXionoHb"
      },
      "source": [
        "# 都市の数\r\n",
        "N_CITY = 4\r\n",
        "\r\n",
        "# 距離行列を定義\r\n",
        "d = [\r\n",
        "     [0, 6, 5, 5],\r\n",
        "     [6, 0, 7, 4],\r\n",
        "     [5, 7, 0, 3],\r\n",
        "     [5, 4, 3, 0]\r\n",
        "]"
      ],
      "execution_count": 3,
      "outputs": []
    },
    {
      "cell_type": "markdown",
      "metadata": {
        "id": "akL9SYqPobwQ"
      },
      "source": [
        "都市間の関係をグラフで描画する。"
      ]
    },
    {
      "cell_type": "code",
      "metadata": {
        "colab": {
          "base_uri": "https://localhost:8080/",
          "height": 248
        },
        "id": "HIW4v3s8nH3C",
        "outputId": "453d4eb7-bc10-421f-b6ee-72f1f4cddf32"
      },
      "source": [
        "# 各都市と距離をグラフで描画\r\n",
        "\r\n",
        "import networkx\r\n",
        "import networkx as nx\r\n",
        "import matplotlib.pyplot as plt\r\n",
        "\r\n",
        "city_names = 'ABCD'\r\n",
        "\r\n",
        "G = nx.Graph()\r\n",
        "\r\n",
        "G.add_weighted_edges_from(\r\n",
        "    [(city_names[i], city_names[j], d[i][j]) for i, j in itertools.combinations(list(range(N_CITY)), 2)]\r\n",
        ")\r\n",
        "\r\n",
        "pos = nx.spring_layout(G, k=0.5, seed=1)\r\n",
        "\r\n",
        "nx.draw_networkx_labels(G, pos, font_size=14)\r\n",
        "\r\n",
        "edge_labels = {(i, j): w['weight'] for i, j, w in G.edges(data=True)}\r\n",
        "nx.draw_networkx_edge_labels(G, pos, edge_labels=edge_labels, font_size=14)\r\n",
        "\r\n",
        "nx.draw(G, pos, node_color='cyan')\r\n",
        "\r\n",
        "plt.axis('off')\r\n",
        "plt.show()"
      ],
      "execution_count": 4,
      "outputs": [
        {
          "output_type": "display_data",
          "data": {
            "image/png": "[encoded data removed]",
            "text/plain": [
              "<Figure size 432x288 with 1 Axes>"
            ]
          },
          "metadata": {
            "tags": []
          }
        }
      ]
    },
    {
      "cell_type": "markdown",
      "metadata": {
        "id": "0NOVqEINpRQg"
      },
      "source": [
        "決定変数$x_{u, v}$、ハミルトニアン$H_B(x) + AH_A(x)$を定義する。"
      ]
    },
    {
      "cell_type": "code",
      "metadata": {
        "id": "NFdKlE_nhJUx"
      },
      "source": [
        "# QUBOを表現する変数を用意\r\n",
        "# 都市数^2の変数が必要\r\n",
        "x = Array.create('x', shape=(N_CITY, N_CITY), vartype='BINARY')\r\n",
        "\r\n",
        "# グラフのエッジの組み合わせ (重複なし) を取得\r\n",
        "E = list(itertools.combinations(list(range(N_CITY)), 2))\r\n",
        "\r\n",
        "# 第一項 (制約項) を定義\r\n",
        "# H_A_1とH_A_2ではvとjの位置が入れ替わることに注意\r\n",
        "H_A_1 = sum((1 - sum(x[v, j] for j in range(N_CITY))) ** 2 for v in range(N_CITY))\r\n",
        "H_A_2 = sum((1 - sum(x[v, j] for v in range(N_CITY))) ** 2 for j in range(N_CITY))\r\n",
        "H_A = Constraint(H_A_1 + H_A_2, label='HA')\r\n",
        "\r\n",
        "# 第二項 (コスト、目的関数) を定義\r\n",
        "# 参考文献[2]より、N + 1 = 1とする必要がある (n = 1, 2, ..., N)\r\n",
        "# スタート地点に戻ることを表す\r\n",
        "# プログラム上は添え字が0から始まるのでN + 1 = 0となる\r\n",
        "H_B = sum((d[u][v] * sum(x[u, j] * x[v, j + 1] if j < N_CITY - 1 else x[u, j] * x[v, 0] for j in range(N_CITY))) for (u, v) in E)\r\n",
        "\r\n",
        "# ハイパーパラメータを定義\r\n",
        "A = 10\r\n",
        "\r\n",
        "# ハミルトニアン全体を定義\r\n",
        "Q = H_B + A * H_A"
      ],
      "execution_count": 5,
      "outputs": []
    },
    {
      "cell_type": "markdown",
      "metadata": {
        "id": "tI7NUtydqV4W"
      },
      "source": [
        "定義したハミルトニアンをQUBOに変換する。"
      ]
    },
    {
      "cell_type": "code",
      "metadata": {
        "id": "k1xtkhEQvdXt"
      },
      "source": [
        "# モデルをコンパイル\r\n",
        "model = Q.compile()\r\n",
        "qubo, offset = model.to_qubo()"
      ],
      "execution_count": 6,
      "outputs": []
    },
    {
      "cell_type": "markdown",
      "metadata": {
        "id": "uJgcC9J4qe47"
      },
      "source": [
        "OpenJijを用いて、SQA (Simulated quantum annealing) で解を求める。"
      ]
    },
    {
      "cell_type": "code",
      "metadata": {
        "id": "QdDj9q10zKM8"
      },
      "source": [
        "# SQAを用いて問題を解く\r\n",
        "sampler = oj.SQASampler()\r\n",
        "# QUBOに先ほど.to_quboで作成したものを代入\r\n",
        "num_reads = 1000\r\n",
        "response = sampler.sample_qubo(Q=qubo, num_reads=num_reads)"
      ],
      "execution_count": 7,
      "outputs": []
    },
    {
      "cell_type": "markdown",
      "metadata": {
        "id": "Znkr2HTnrXzd"
      },
      "source": [
        "各解を順番に見て、前の解より最小経路長が短い、または同じ解を取得する。"
      ]
    },
    {
      "cell_type": "code",
      "metadata": {
        "id": "UG0782GVSqE-"
      },
      "source": [
        "# numreads回分の解と、各解に対応するスピンのエネルギー、インデックスを取得\r\n",
        "states = response.states\r\n",
        "energies = response.energies\r\n",
        "indices = response.indices\r\n",
        "\r\n",
        "# 各解の中で最小経路長\r\n",
        "# 初期値には十分大きな値を与える\r\n",
        "min_path_length = 1000\r\n",
        "\r\n",
        "# キー = 経路, 値 = 経路長の辞書\r\n",
        "result = {}\r\n",
        "\r\n",
        "for num_read in range(num_reads):\r\n",
        "    # 解の辞書を生成\r\n",
        "    dict_solution = {index: state for index, state in zip(indices, states[num_read])}\r\n",
        "\r\n",
        "    # 得られた結果をデコード    \r\n",
        "    decoded_sample = model.decode_sample(dict_solution, vartype='BINARY')\r\n",
        "\r\n",
        "    # 破られている制約\r\n",
        "    broken = decoded_sample.constraints(only_broken=True)\r\n",
        "    # 制約が破られている場合は処理を行わない\r\n",
        "    if broken:\r\n",
        "        continue\r\n",
        "\r\n",
        "    # 解を見やすくする処理\r\n",
        "    x_solution = {}\r\n",
        "    for i in range(N_CITY):\r\n",
        "        x_solution[i] = {}\r\n",
        "        for j in range(N_CITY):\r\n",
        "            x_solution[i][j] = decoded_sample.array('x', (i, j))\r\n",
        "\r\n",
        "    # 経路長を求める\r\n",
        "    path_length = 0\r\n",
        "    # 移動する順番を取得\r\n",
        "    order = []\r\n",
        "    for i in range(N_CITY):\r\n",
        "        for j in range(N_CITY):\r\n",
        "            if x_solution[i][j] == 1:\r\n",
        "                order.append(j)\r\n",
        "    # スタート地点を末尾に追加\r\n",
        "    order.append(order[0])\r\n",
        "    for i in range(N_CITY):\r\n",
        "        path_length += d[order[i]][order[i + 1]]\r\n",
        "    # 最小経路長を更新\r\n",
        "    if min_path_length >= path_length:\r\n",
        "        min_path_length = path_length\r\n",
        "        path_str = ''.join([city_names[i] for i in order])\r\n",
        "        result[path_str] = min_path_length"
      ],
      "execution_count": 8,
      "outputs": []
    },
    {
      "cell_type": "markdown",
      "metadata": {
        "id": "LlKftfLBoLeP"
      },
      "source": [
        "取得した解のリストから、最小経路長を求め、それ以外の経路長を持つ解を削除する。\r\n",
        "\r\n",
        "最終的に残った解を最適解の候補とする。"
      ]
    },
    {
      "cell_type": "code",
      "metadata": {
        "colab": {
          "base_uri": "https://localhost:8080/"
        },
        "id": "Hz-DZ0BNacLM",
        "outputId": "74cdbc04-3178-4451-fcfb-ffb44ee5a023"
      },
      "source": [
        "# 結果の中から最小経路長を求める\r\n",
        "min_value = min(result.values())\r\n",
        "# 値が最小値のものを抽出 (最小経路長以外の結果を削除)\r\n",
        "{k: v for k, v in result.items() if v == min_value}"
      ],
      "execution_count": 9,
      "outputs": [
        {
          "output_type": "execute_result",
          "data": {
            "text/plain": [
              "{'ABDCA': 18,\n",
              " 'BACDB': 18,\n",
              " 'BDCAB': 18,\n",
              " 'CABDC': 18,\n",
              " 'CDBAC': 18,\n",
              " 'DBACD': 18,\n",
              " 'DCABD': 18}"
            ]
          },
          "metadata": {
            "tags": []
          },
          "execution_count": 9
        }
      ]
    },
    {
      "cell_type": "markdown",
      "metadata": {
        "id": "BznqjDeItt_b"
      },
      "source": [
        "例題のリンク元では、都市A→都市B→都市D→都市C→都市Aの順番で移動するのが最適解となり、その経路長は18とある。\r\n",
        "\r\n",
        "最適解の候補を見ると、同等の解を求められている。また、同じ経路長を持つ経路は他にもあることが分かる。"
      ]
    },
    {
      "cell_type": "markdown",
      "metadata": {
        "id": "FJ8Y2Yy0S3dS"
      },
      "source": [
        "## 5 Application 2: Flow Shop Scheduling Problem (FSP)"
      ]
    },
    {
      "cell_type": "markdown",
      "metadata": {
        "id": "FltQGUOSS6Cl"
      },
      "source": [
        "### 解説\r\n",
        "\r\n",
        "FSP (フローショップ問題) は距離行列を事前に計算することで、TSPで定義した式を利用することができる。\r\n",
        "\r\n",
        "仕事$i, j$の距離行列$d_{ij}$の求め方は複数あるが、論文では[26]の式を採用している。\r\n",
        "\r\n",
        "[26]を用いた距離行列は以下のように表される。\r\n",
        "\r\n",
        "<center>\r\n",
        "$UBX^{k + 1}_{ij} = \\max\\{0, UBX^{k}_{ij} + (t_{jk} - t_{i, k + 1})\\}$\r\n",
        "\r\n",
        "$k = 1, 2, ..., m - 1$\r\n",
        "\r\n",
        "$UBX^{1}_{ij} = 0$\r\n",
        "\r\n",
        "$d_{ij} = UBX^{m}_{ij}$\r\n",
        "</center>\r\n",
        "\r\n",
        "ここで、$m$は作業 (機械) の数、$t_{jk}$は$i$番目の仕事における、$k$番目の作業 (機械$k$での処理) の処理時間を表す。\r\n",
        "\r\n",
        "[26]から、$UBX^{h}_{uv}$は仕事$u$の終了から仕事$v$の開始までの機械$h$のアイドル時間の上限を表すことが分かる。"
      ]
    },
    {
      "cell_type": "markdown",
      "metadata": {
        "id": "9e7Pz2U0Vy3G"
      },
      "source": [
        "### 例題\r\n",
        "\r\n",
        "[Numerical Optimizer SIMPLE例題集](https://www.msi.co.jp/nuopt/docs/v19/examples/html/02-25-02.html) における、フローショップ問題の例題を用いる。\r\n",
        "\r\n",
        "ここで、各作業と処理時間は以下のように与えられる。\r\n",
        "\r\n",
        "| |  作業1 (機械1)  |  作業2 (機械2)  | 作業3 (機械3) |\r\n",
        "| :---: | :---: | :---: | :---: |\r\n",
        "| 仕事a | 5時間 | 8時間 | 4時間 |\r\n",
        "| 仕事b | 5時間 | 4時間 | 6時間 |\r\n",
        "| 仕事c | 6時間 | 5時間 | 5時間 |\r\n"
      ]
    },
    {
      "cell_type": "markdown",
      "metadata": {
        "id": "ARHBPQdJXNcN"
      },
      "source": [
        "各作業の処理時間$t_{j, k}$を定義する。"
      ]
    },
    {
      "cell_type": "code",
      "metadata": {
        "id": "dOQ6fH2fU41Q"
      },
      "source": [
        "# 仕事の数を定義\r\n",
        "N_JOB = 3\r\n",
        "\r\n",
        "# 機械の数を定義\r\n",
        "N_MACHINE = 3\r\n",
        "\r\n",
        "# 各作業の処理時間を定義\r\n",
        "t = [\r\n",
        "     [5, 8, 4],\r\n",
        "     [5, 4, 6],\r\n",
        "     [6, 5, 5]\r\n",
        "]\r\n",
        "\r\n",
        "# 仕事の名前\r\n",
        "job_names = 'abc'\r\n",
        "\r\n",
        "# 仕事の組み合わせを求める\r\n",
        "E_machine = list(itertools.permutations(list(range(N_JOB)), 2))\r\n",
        "\r\n",
        "# d_{ij} = N_JOB * N_JOBの行列を定義\r\n",
        "d_job = [[0 for j in range(N_JOB)] for i in range(N_JOB)]\r\n",
        "\r\n",
        "# 機械ごとにUBXを求める\r\n",
        "for (i, j) in E_machine:\r\n",
        "    # UBX^{m}_{ij}を計算\r\n",
        "    UBX_ij = 0\r\n",
        "    for k in range(1, N_MACHINE):\r\n",
        "        UBX_ij = max(0, UBX_ij + (\r\n",
        "            t[j][k - 1] - t[i][k]\r\n",
        "        ))\r\n",
        "    d_job[i][j] = UBX_ij"
      ],
      "execution_count": 10,
      "outputs": []
    },
    {
      "cell_type": "markdown",
      "metadata": {
        "id": "_-v9v5YnggDP"
      },
      "source": [
        "TSPと同様に決定変数、ハミルトニアンを定義する。"
      ]
    },
    {
      "cell_type": "code",
      "metadata": {
        "id": "Vmppgm8AgtiA"
      },
      "source": [
        "# QUBOを表現する変数を用意\r\n",
        "# 都市数^2の変数が必要\r\n",
        "x = Array.create('x', shape=(N_JOB, N_JOB), vartype='BINARY')\r\n",
        "\r\n",
        "# 第一項 (制約項) を定義\r\n",
        "# H_A_1とH_A_2ではvとjの位置が入れ替わることに注意\r\n",
        "H_A_1 = sum((1 - sum(x[v, j] for j in range(N_JOB))) ** 2 for v in range(N_JOB))\r\n",
        "H_A_2 = sum((1 - sum(x[v, j] for v in range(N_JOB))) ** 2 for j in range(N_JOB))\r\n",
        "H_A = Constraint(H_A_1 + H_A_2, label='HA')\r\n",
        "\r\n",
        "# 第二項 (コスト、目的関数) を定義\r\n",
        "# 参考文献[2]より、N + 1 = 1とする必要がある (n = 1, 2, ..., N)\r\n",
        "# スタート地点に戻ることを表す\r\n",
        "# プログラム上は添え字が0から始まるのでN + 1 = 0となる\r\n",
        "H_B = sum((d_job[u][v] * sum(x[u, j] * x[v, j + 1] if j < N_JOB - 1 else x[u, j] * x[v, 0] for j in range(N_JOB))) for (u, v) in E_machine)\r\n",
        "\r\n",
        "# ハイパーパラメータを定義\r\n",
        "A = 10\r\n",
        "\r\n",
        "# ハミルトニアン全体を定義\r\n",
        "Q = H_B + A * H_A"
      ],
      "execution_count": 11,
      "outputs": []
    },
    {
      "cell_type": "markdown",
      "metadata": {
        "id": "Uq4nQU3lhiHL"
      },
      "source": [
        "OpenJijを用いて、SQA (Simulated quantum annealing) で解を求める。"
      ]
    },
    {
      "cell_type": "code",
      "metadata": {
        "id": "KYw3kQH3ho2D"
      },
      "source": [
        "# SQAを用いて問題を解く\r\n",
        "sampler = oj.SQASampler()\r\n",
        "# QUBOに先ほど.to_quboで作成したものを代入\r\n",
        "num_reads = 1000\r\n",
        "response = sampler.sample_qubo(Q=qubo, num_reads=num_reads)"
      ],
      "execution_count": 12,
      "outputs": []
    },
    {
      "cell_type": "markdown",
      "metadata": {
        "id": "b8zf6_6WhldZ"
      },
      "source": [
        "各解を順番に見て、前の解より最小経路長が短い、または同じ解を取得する。"
      ]
    },
    {
      "cell_type": "code",
      "metadata": {
        "id": "ZR2cPZg1hygW"
      },
      "source": [
        "# numreads回分の解と、各解に対応するスピンのエネルギー、インデックスを取得\r\n",
        "states = response.states\r\n",
        "energies = response.energies\r\n",
        "indices = response.indices\r\n",
        "\r\n",
        "# 各解の中で最小経路長\r\n",
        "# 初期値には十分大きな値を与える\r\n",
        "min_path_length = 1000\r\n",
        "\r\n",
        "# キー = 経路, 値 = 経路長の辞書\r\n",
        "result = {}\r\n",
        "\r\n",
        "for num_read in range(num_reads):\r\n",
        "    # 解の辞書を生成\r\n",
        "    dict_solution = {index: state for index, state in zip(indices, states[num_read])}\r\n",
        "\r\n",
        "    # 得られた結果をデコード    \r\n",
        "    decoded_sample = model.decode_sample(dict_solution, vartype='BINARY')\r\n",
        "\r\n",
        "    # 破られている制約\r\n",
        "    broken = decoded_sample.constraints(only_broken=True)\r\n",
        "    # 制約が破られている場合は処理を行わない\r\n",
        "    if broken:\r\n",
        "        continue\r\n",
        "\r\n",
        "    # 解を見やすくする処理\r\n",
        "    x_solution = {}\r\n",
        "    for i in range(N_JOB):\r\n",
        "        x_solution[i] = {}\r\n",
        "        for j in range(N_JOB):\r\n",
        "            x_solution[i][j] = decoded_sample.array('x', (i, j))\r\n",
        "\r\n",
        "    # TODO: 1度も実行されない仕事がある現象への応急処置なので後で対処する\r\n",
        "    is_continue = False\r\n",
        "    for i in range(N_JOB):\r\n",
        "        if sum(x_solution[i].values()) == 0:\r\n",
        "            is_continue = True\r\n",
        "            break\r\n",
        "    if is_continue:\r\n",
        "        continue\r\n",
        "\r\n",
        "    # 経路長を求める\r\n",
        "    path_length = 0\r\n",
        "    # 移動する順番を取得\r\n",
        "    order = []\r\n",
        "    for i in range(N_JOB):\r\n",
        "        for j in range(N_JOB):\r\n",
        "            if x_solution[i][j] == 1:\r\n",
        "                order.append(j)\r\n",
        "    # スタート地点を末尾に追加\r\n",
        "    order.append(order[0])\r\n",
        "    for i in range(N_JOB):\r\n",
        "        path_length += d_job[order[i]][order[i + 1]]\r\n",
        "    # 最小経路長を更新\r\n",
        "    if min_path_length >= path_length:\r\n",
        "        min_path_length = path_length\r\n",
        "        path_str = (''.join(map(str, [job_names[i] for i in order])))[:N_JOB]\r\n",
        "        result[path_str] = min_path_length"
      ],
      "execution_count": 13,
      "outputs": []
    },
    {
      "cell_type": "markdown",
      "metadata": {
        "id": "-bzZWQSMhzJu"
      },
      "source": [
        "取得した解のリストから、最小経路長を求め、それ以外の経路長を持つ解を削除する。\r\n",
        "\r\n",
        "最終的に残った解を最適解の候補とする。"
      ]
    },
    {
      "cell_type": "code",
      "metadata": {
        "colab": {
          "base_uri": "https://localhost:8080/"
        },
        "id": "X4pk7xtvh18M",
        "outputId": "43629a35-b39b-48a8-d270-4b19b7de7e38"
      },
      "source": [
        "# 結果の中から最小経路長を求める\r\n",
        "min_value = min(result.values())\r\n",
        "# 値が最小値のものを抽出 (最小経路長以外の結果を削除)\r\n",
        "min_result = {k: v for k, v in result.items() if v == min_value}\r\n",
        "min_result"
      ],
      "execution_count": 14,
      "outputs": [
        {
          "output_type": "execute_result",
          "data": {
            "text/plain": [
              "{'acb': 4, 'bac': 4, 'bca': 4, 'cab': 4, 'cba': 4}"
            ]
          },
          "metadata": {
            "tags": []
          },
          "execution_count": 14
        }
      ]
    },
    {
      "cell_type": "code",
      "metadata": {
        "colab": {
          "base_uri": "https://localhost:8080/"
        },
        "id": "ZL3Jj_dWSJ51",
        "outputId": "076dc5a9-df20-4b2c-9149-abc60defe2d3"
      },
      "source": [
        "for k in min_result:\r\n",
        "    print('実行順: {}'.format(k))\r\n",
        "    gantt = [[] for i in range(N_MACHINE)]\r\n",
        "    for i in k:\r\n",
        "        # 仕事の添え字を取得\r\n",
        "        job_i = job_names.index(i)\r\n",
        "        for m in range(N_MACHINE):\r\n",
        "            # tから時間を取得してその分追加\r\n",
        "            for mm in range(N_MACHINE):\r\n",
        "                if m == mm:\r\n",
        "                    gantt[mm] += [i for _ in range(t[job_i][m])]\r\n",
        "                elif m < mm and len(gantt[m]) > len(gantt[mm]):\r\n",
        "                    # 重なる分を追加\r\n",
        "                    gantt[mm] += ['*' for _ in range(len(gantt[m]) - len(gantt[mm]))]\r\n",
        "    # 各作業の完了時間から最大値を取得\r\n",
        "    complete_time = max([len(item) for item in gantt])\r\n",
        "    print('完了時刻: {}'.format(complete_time))\r\n",
        "    for item in gantt:\r\n",
        "        item += ['*' for _ in range(complete_time - len(item))]\r\n",
        "        print(''.join(item))\r\n",
        "    print('-' * 10)"
      ],
      "execution_count": 15,
      "outputs": [
        {
          "output_type": "stream",
          "text": [
            "実行順: cba\n",
            "完了時刻: 28\n",
            "ccccccbbbbbaaaaa************\n",
            "******cccccbbbb*aaaaaaaa****\n",
            "***********cccccbbbbbb**aaaa\n",
            "----------\n",
            "実行順: bac\n",
            "完了時刻: 28\n",
            "bbbbbaaaaacccccc************\n",
            "*****bbbb*aaaaaaaaccccc*****\n",
            "*********bbbbbb***aaaa*ccccc\n",
            "----------\n",
            "実行順: bca\n",
            "完了時刻: 28\n",
            "bbbbbccccccaaaaa************\n",
            "*****bbbb**cccccaaaaaaaa****\n",
            "*********bbbbbb*ccccc***aaaa\n",
            "----------\n",
            "実行順: acb\n",
            "完了時刻: 29\n",
            "aaaaaccccccbbbbb*************\n",
            "*****aaaaaaaacccccbbbb*******\n",
            "*************aaaa*cccccbbbbbb\n",
            "----------\n",
            "実行順: cab\n",
            "完了時刻: 29\n",
            "ccccccaaaaabbbbb*************\n",
            "******cccccaaaaaaaabbbb******\n",
            "***********ccccc***aaaabbbbbb\n",
            "----------\n"
          ],
          "name": "stdout"
        }
      ]
    },
    {
      "cell_type": "markdown",
      "metadata": {
        "id": "ueaT65-5fSx_"
      },
      "source": [
        "例題のリンク元では、最後の作業3の開始時刻が最も遅い仕事はaの24であり、その作業時間は4時間である。すなわち、最後の作業の完了時刻は28となる。\r\n",
        "\r\n",
        "最適解の候補を見ると、同等の解を求められている。ただし、TSPと異なり、距離行列が直接問題を表現していないため、ガントチャートに直すと完了時刻が最小とならない解を含む場合がある。"
      ]
    }
  ]
}