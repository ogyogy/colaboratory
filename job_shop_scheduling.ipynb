{
  "nbformat": 4,
  "nbformat_minor": 0,
  "metadata": {
    "colab": {
      "name": "job_shop_scheduling.ipynb",
      "provenance": [],
      "collapsed_sections": [],
      "authorship_tag": "ABX9TyMq5/uBmjFMRh/H44Isfkk8",
      "include_colab_link": true
    },
    "kernelspec": {
      "name": "python3",
      "display_name": "Python 3"
    }
  },
  "cells": [
    {
      "cell_type": "markdown",
      "metadata": {
        "id": "view-in-github",
        "colab_type": "text"
      },
      "source": [
        "<a href=\"https://colab.research.google.com/github/ogyogy/colaboratory/blob/main/job_shop_scheduling.ipynb\" target=\"_parent\"><img src=\"https://colab.research.google.com/assets/colab-badge.svg\" alt=\"Open In Colab\"/></a>"
      ]
    },
    {
      "cell_type": "markdown",
      "metadata": {
        "id": "fBSxXr1uNhTl"
      },
      "source": [
        "# Job Shop Scheduling Solver based on Quantum Annealing\n",
        "\n",
        "[論文](https://arxiv.org/pdf/1506.08479.pdf)"
      ]
    },
    {
      "cell_type": "markdown",
      "metadata": {
        "id": "OhcdnMGQNuHE"
      },
      "source": [
        "## パッケージのインストール"
      ]
    },
    {
      "cell_type": "code",
      "metadata": {
        "id": "5RdKdBoxNa4F"
      },
      "source": [
        "!pip install openjij pyqubo"
      ],
      "execution_count": null,
      "outputs": []
    },
    {
      "cell_type": "markdown",
      "metadata": {
        "id": "CLSX6hfgN2V1"
      },
      "source": [
        "## 問題定義"
      ]
    },
    {
      "cell_type": "markdown",
      "metadata": {
        "id": "LkEQ19eRju6i"
      },
      "source": [
        "ジョブ $\\mathcal{J} = {j_1, j_2, \\dots, j_N}$、マシン $\\mathcal{M} = {m_1, m_2, \\dots, m_M}$ のジョブショップスケジューリング問題を考える。\n",
        "このとき、ジョブ $j$ は次のように表される。"
      ]
    },
    {
      "cell_type": "markdown",
      "metadata": {
        "id": "hqkAMHSGYlA2"
      },
      "source": [
        "$\\begin{eqnarray}\n",
        "j_1 &=& \\{ O_1 \\rightarrow \\cdots \\rightarrow O_{k_1} \\}, \\\\\n",
        "j_2 &=& \\{ O_{k_1 + 1} \\rightarrow \\cdots \\rightarrow O_{k_2} \\}, \\\\\n",
        "\\dots \\\\\n",
        "j_{N} &=& \\{ {O_{k_{N-1}+1}} \\rightarrow \\cdots \\rightarrow {O_{k_N}} \\}.\n",
        "\\tag{1}\n",
        "\\end{eqnarray}$"
      ]
    },
    {
      "cell_type": "markdown",
      "metadata": {
        "id": "f_FIGvvjYnh0"
      },
      "source": [
        "ここで、$O$ はジョブ内の作業を表す。\n",
        "\n",
        "さらに、$i \\in \\{1, \\dots, k_N \\}$ とすると、$i$ 番目の作業 $O_i$ について、 $p_i$ は作業にかかる時間、 $q_i$ は作業に使用するマシンの番号を表す。"
      ]
    },
    {
      "cell_type": "code",
      "metadata": {
        "id": "sChOl44Pp5K7"
      },
      "source": [
        "# ジョブの数\n",
        "N = 3\n",
        "# 作業の数\n",
        "kN = 9\n",
        "# マシンの数\n",
        "M = 3"
      ],
      "execution_count": null,
      "outputs": []
    },
    {
      "cell_type": "markdown",
      "metadata": {
        "id": "14iSKHb_4bUP"
      },
      "source": [
        "### 入力サンプル"
      ]
    },
    {
      "cell_type": "markdown",
      "metadata": {
        "id": "iK3PzCHK1JpU"
      },
      "source": [
        "| |  operation 1  |  operation 2  | operation 3 |\n",
        "| :---: | :---: | :---: | :---: |\n",
        "| $j_1$ | $m_1, p = 2$  | $m_2, p = 1$ | $m_3, p = 1$ |\n",
        "| $j_2$ | $m_3, p = 2$  | $m_1, p = 1$ | $m_2, p = 2$ |\n",
        "| $j_3$ | $m_2, p = 1$  | $m_1, p = 1$ | $m_3, p = 2$ |"
      ]
    },
    {
      "cell_type": "code",
      "metadata": {
        "id": "xuPb7XCfnwiG"
      },
      "source": [
        "import numpy as np\n",
        "\n",
        "J_ = np.array(\n",
        "    [1, 1, 1, 2, 2, 2, 3, 3, 3]\n",
        ")\n",
        "\n",
        "J = np.array([\n",
        "    (1, 2), (2, 1), (3, 1),  # j1\n",
        "    (3, 2), (1, 1), (2, 2),  # j2\n",
        "    (2, 1), (1, 1), (3, 2)   # j3\n",
        "])\n",
        "\n",
        "I_ = J[:, 0]\n",
        "\n",
        "I = []\n",
        "for m in range(1, M + 1):\n",
        "    I.append(np.where(I_ == m)[0].tolist())"
      ],
      "execution_count": null,
      "outputs": []
    },
    {
      "cell_type": "markdown",
      "metadata": {
        "id": "wj_mJ8qjZO8c"
      },
      "source": [
        "## QUBO定式化"
      ]
    },
    {
      "cell_type": "markdown",
      "metadata": {
        "id": "60wOfDHzsOCl"
      },
      "source": [
        "バイナリ変数を次のように定義する。"
      ]
    },
    {
      "cell_type": "markdown",
      "metadata": {
        "id": "B23yYs-YQPxa"
      },
      "source": [
        "$x_{i, t} = \\begin{cases}\n",
        "    1 : \\text{operation} \\, O_i \\, \\text{starts at time} \\, t, \\\\\n",
        "    0 : \\text{otherwise.}\n",
        "\\end{cases} \\tag{2}$"
      ]
    },
    {
      "cell_type": "markdown",
      "metadata": {
        "id": "IX3QzGA7YtB4"
      },
      "source": [
        "ここで、 $t$ はジョブが完了するのに許可される最大時間を表すタイムスパン $T$ によって制限される。タイムスパン自体はすべての作業時間の合計によって制限される。"
      ]
    },
    {
      "cell_type": "code",
      "metadata": {
        "id": "BCwcCJFEo83o"
      },
      "source": [
        "from pyqubo import Array, Constraint\n",
        "\n",
        "# 許可される最大時間\n",
        "T = sum(J[:, 1])\n",
        "\n",
        "# O_iが時間tで開始されるとき1、そうでないとき0となるバイナリ変数\n",
        "x = Array.create('x', shape=(kN, T), vartype='BINARY')"
      ],
      "execution_count": null,
      "outputs": []
    },
    {
      "cell_type": "markdown",
      "metadata": {
        "id": "eiEO9_0dZwdi"
      },
      "source": [
        "### 制約条件\n",
        "\n"
      ]
    },
    {
      "cell_type": "markdown",
      "metadata": {
        "id": "Sl0ZvVztkgeL"
      },
      "source": [
        "1つの作業は1度のみ実行される制約は次のように表される。"
      ]
    },
    {
      "cell_type": "markdown",
      "metadata": {
        "id": "w7WwStyUkt-s"
      },
      "source": [
        "$\n",
        "\\left(\n",
        "    \\sum_t x_{i,t} = 1 \\, \\text{for each} \\, i    \n",
        "\\right)\n",
        "\\rightarrow \\sum_i \\left(\n",
        "    \\sum_t x_{i, t} - 1\n",
        "    \\right)^2. \\tag{3}\n",
        "$"
      ]
    },
    {
      "cell_type": "markdown",
      "metadata": {
        "id": "v_XIji2clmuU"
      },
      "source": [
        "任意の時間について、1つのマシンで実行できるジョブは1つだけであり、次のように表される。"
      ]
    },
    {
      "cell_type": "markdown",
      "metadata": {
        "id": "LbK0_ZuamI3k"
      },
      "source": [
        " $\n",
        " \\sum_{(i, t, k, t') \\in R_m} x_{i, t} x_{k, t'} = 0 \\, \\text{for each} \\, m\n",
        " \\tag{4}\n",
        " $\n",
        "\n",
        "ここで、\n",
        "\n",
        "<center>\n",
        "$\\begin{eqnarray}\n",
        "R_m &=& A_m \\cup B_m,\n",
        "\\\\\n",
        "A_m &=& \\{ (i,t,k,t') : (i,k) \\in I_m \\times I_m,\n",
        "i \\neq k, 0 \\leq t, t' < T, 0 < t' - t < p_i\n",
        "\\},\n",
        "\\\\\n",
        "B_m &=& \\{ (i,t,k,t') : (i,k) \\in I_m \\times I_m,\n",
        "i < k, t' = t, p_i > 0, p_j > 0\n",
        "\\}.\n",
        "\\end{eqnarray}$\n",
        "</center>"
      ]
    },
    {
      "cell_type": "markdown",
      "metadata": {
        "id": "WOvJDrPtprxl"
      },
      "source": [
        "$A_m$ は、別の操作 $O_i$ がまだ実行されている場合に操作 $O_j$ が $t'$ で開始することを禁止する制約を表す。これは、$O_i$ が時間 $t$ で開始し、$t' - t$ が $pi$ 未満の場合に発生します。\n",
        "\n",
        "$B_m$ は、少なくとも1つのジョブの実行時間が0でない限り、2つのジョブを同時に開始できない制約を表す。"
      ]
    },
    {
      "cell_type": "markdown",
      "metadata": {
        "id": "Qq5HlOGJqera"
      },
      "source": [
        "最後に、ジョブ内の操作の順序は次のように表される。\n",
        "これは、連続する操作間の優先順位違反の数のみをカウントする。"
      ]
    },
    {
      "cell_type": "markdown",
      "metadata": {
        "id": "yBZVdNqkqk92"
      },
      "source": [
        "$\n",
        "\\sum_{k_{n-1} < i < k_n \\\\ t + p_i > t'} x_{i, t} x_{i+1, t'} \\, \\text{for each} \\, n\n",
        "\\tag{5}\n",
        "$"
      ]
    },
    {
      "cell_type": "markdown",
      "metadata": {
        "id": "u9e0RjHciWbV"
      },
      "source": [
        "ハミルトニアンは次のように表される。"
      ]
    },
    {
      "cell_type": "markdown",
      "metadata": {
        "id": "089KfyiqiPq7"
      },
      "source": [
        "$\\begin{eqnarray}\n",
        "H_T(\\bar{x}) &=& \\eta h_1(\\bar{x}) + \\alpha h_2(\\bar{x}) + \\beta h_3(\\bar{x}),\\tag{6}\n",
        "\\end{eqnarray}$\n",
        "\n",
        "ここで、\n",
        "\n",
        "$\\begin{eqnarray}\n",
        "h_1(\\bar{x}) &=& \\sum_n \\left(\n",
        "    \\sum_{k_{n-1} < i < k_n \\\\ t + p_i > t'} x_{i, t} x_{i+1, t'}\n",
        "    \\right), \\tag{7}\n",
        "\\\\\n",
        "h_2(\\bar{x}) &=& \\sum_m \\left(\n",
        "    \\sum_{(i, t, k, t') \\in R_m} x_{i, t} x_{k, t'}\n",
        "    \\right), \\tag{8}\n",
        "\\\\\n",
        "h_3(\\bar{x}) &=& \\sum_i \\left(\n",
        "    \\sum_t x_{i, t} - 1\n",
        "    \\right)^2, \\tag{9}\n",
        "\\end{eqnarray}$"
      ]
    },
    {
      "cell_type": "markdown",
      "metadata": {
        "id": "VL3tiFdziMDR"
      },
      "source": [
        "ここで、$\\eta, \\alpha, \\beta > 0$ はハイパーパラメータを表す。"
      ]
    },
    {
      "cell_type": "code",
      "metadata": {
        "id": "HnpoypmmpfNa"
      },
      "source": [
        "from itertools import combinations, product\n",
        "\n",
        "# (7)\n",
        "# 作業を順番に行う\n",
        "h1_ = []\n",
        "for n in range(1, N + 1):\n",
        "    for i in (np.where(J_ == n)[0][:-1].tolist()):\n",
        "        for t in range(T):\n",
        "            for t_ in range(min(t + J[i][1], T)):\n",
        "                h1_ .append(x[i, t] * x[i + 1, t_])\n",
        "h1 = Constraint(sum(h1_), label='h1')\n",
        "\n",
        "# (8)\n",
        "# 1つのマシンで実行できるジョブは1つのみ\n",
        "h2_ = []\n",
        "for m in range(M):\n",
        "    for i1, i2 in combinations(I[m], 2):\n",
        "        for t in range(T):\n",
        "            for t_ in range(t, min(t + J[i1][1], T)):\n",
        "                h2_ .append(x[i1, t] * x[i2, t_])\n",
        "h2 = Constraint(sum(h2_), label='h2')\n",
        "\n",
        "# (9)\n",
        "# 1つの作業は1度のみ実行される\n",
        "h3 = Constraint(sum((sum(x[i, t] for t in range(T)) - 1) ** 2 for i in range(kN)), label='h3')\n",
        "\n",
        "# ハイパーパラメータ\n",
        "eta = 10\n",
        "alpha = 10\n",
        "beta = 10\n",
        "\n",
        "# (6)\n",
        "H = (eta * h1) + (alpha * h2) + (beta * h3)\n",
        "\n",
        "# モデルをコンパイル\n",
        "model = H.compile()\n",
        "qubo, offset = model.to_qubo()"
      ],
      "execution_count": null,
      "outputs": []
    },
    {
      "cell_type": "code",
      "metadata": {
        "id": "8ncDg5MI4fsO",
        "outputId": "cb81f0a3-6221-4ee2-8303-5ff5938361ab",
        "colab": {
          "base_uri": "https://localhost:8080/"
        }
      },
      "source": [
        "import openjij as oj\n",
        "\n",
        "# SQAを用いる\n",
        "sampler = oj.SQASampler()\n",
        "# SamplerにQUBOを渡す\n",
        "response = sampler.sample_qubo(Q=qubo, num_reads=300)\n",
        "# エネルギーが一番低い状態を取得\n",
        "dict_solution = response.first.sample\n",
        "# 得られた結果をデコード    \n",
        "decoded_sample = model.decode_sample(dict_solution, vartype='BINARY')\n",
        "# 破られている制約\n",
        "broken = decoded_sample.constraints(only_broken=True)\n",
        "print('broken: {}'.format(broken))\n",
        "\n",
        "# ジョブごとに出力\n",
        "# 縦軸に作業、横軸に時間をとる\n",
        "print('==========for each job==========')\n",
        "kn = 0\n",
        "for n in range(1, N + 1):\n",
        "    print('----------j_{}----------'.format(n))\n",
        "    for i in (np.where(J_ == n)[0].tolist()):\n",
        "        tmp = [decoded_sample.array('x', (i, t)) for t in range(T)]\n",
        "        print('O_{}: {}'.format(i + 1, ', '.join(list(map(str, tmp)))))\n",
        "\n",
        "# マシンごとに出力\n",
        "# 縦軸にマシン、横軸に時間をとる\n",
        "print('==========for each machine==========')\n",
        "A = np.zeros((M, T), dtype=int)\n",
        "for i in range(kN):\n",
        "    j = J[i]\n",
        "    for t in range(T):\n",
        "        flag = decoded_sample.array('x', (i, t))\n",
        "        if flag == 1:\n",
        "            try:\n",
        "                m = J[i][0]\n",
        "                A[m - 1, t] = J_[i]\n",
        "                for k in range(J[i][1]):\n",
        "                    A[m - 1, t + k] = J_[i]\n",
        "            except IndexError as e:\n",
        "                print('作業{}が制限時間{}を超えています'.format(i + 1, T))\n",
        "for m in range(M):\n",
        "    print('m_{}: {}'.format(m + 1, ', '.join(list(map(str, A[m])))))"
      ],
      "execution_count": null,
      "outputs": [
        {
          "output_type": "stream",
          "text": [
            "broken: {}\n",
            "==========for each job==========\n",
            "----------j_1----------\n",
            "O_1: 0, 1, 0, 0, 0, 0, 0, 0, 0, 0, 0, 0, 0\n",
            "O_2: 0, 0, 0, 0, 1, 0, 0, 0, 0, 0, 0, 0, 0\n",
            "O_3: 0, 0, 0, 0, 0, 0, 0, 0, 0, 0, 0, 1, 0\n",
            "----------j_2----------\n",
            "O_4: 1, 0, 0, 0, 0, 0, 0, 0, 0, 0, 0, 0, 0\n",
            "O_5: 0, 0, 0, 0, 0, 1, 0, 0, 0, 0, 0, 0, 0\n",
            "O_6: 0, 0, 0, 0, 0, 0, 0, 1, 0, 0, 0, 0, 0\n",
            "----------j_3----------\n",
            "O_7: 0, 0, 0, 0, 0, 1, 0, 0, 0, 0, 0, 0, 0\n",
            "O_8: 0, 0, 0, 0, 0, 0, 0, 1, 0, 0, 0, 0, 0\n",
            "O_9: 0, 0, 0, 0, 0, 0, 0, 0, 1, 0, 0, 0, 0\n",
            "==========for each machine==========\n",
            "m_1: 0, 1, 1, 0, 0, 2, 0, 3, 0, 0, 0, 0, 0\n",
            "m_2: 0, 0, 0, 0, 1, 3, 0, 2, 2, 0, 0, 0, 0\n",
            "m_3: 2, 2, 0, 0, 0, 0, 0, 0, 3, 3, 0, 1, 0\n"
          ],
          "name": "stdout"
        }
      ]
    }
  ]
}